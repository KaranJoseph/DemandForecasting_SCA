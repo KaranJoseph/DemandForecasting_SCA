{
  "nbformat": 4,
  "nbformat_minor": 0,
  "metadata": {
    "colab": {
      "name": "Untitled3.ipynb",
      "provenance": [],
      "collapsed_sections": [],
      "authorship_tag": "ABX9TyMb6o3RbE2ONLnoXXDo4hLL",
      "include_colab_link": true
    },
    "kernelspec": {
      "name": "python3",
      "display_name": "Python 3"
    },
    "language_info": {
      "name": "python"
    }
  },
  "cells": [
    {
      "cell_type": "markdown",
      "metadata": {
        "id": "view-in-github",
        "colab_type": "text"
      },
      "source": [
        "<a href=\"https://colab.research.google.com/github/KaranJoseph/DemandForecasting_SCA/blob/main/InventoryManagement.ipynb\" target=\"_parent\"><img src=\"https://colab.research.google.com/assets/colab-badge.svg\" alt=\"Open In Colab\"/></a>"
      ]
    },
    {
      "cell_type": "code",
      "source": [
        "# Install Pyomo and GLPK\n",
        "!pip install -q pyomo\n",
        "!apt-get install -y -qq glpk-utils #if GLPK is used\n",
        "# !apt-get install -y -qq coinor-cbc #if cbc is used"
      ],
      "metadata": {
        "colab": {
          "base_uri": "https://localhost:8080/"
        },
        "id": "sYL_F6sx_hg3",
        "outputId": "9c7277a1-21fa-4f51-b8b2-b16eb2926fdf"
      },
      "execution_count": null,
      "outputs": [
        {
          "output_type": "stream",
          "name": "stdout",
          "text": [
            "\u001b[K     |████████████████████████████████| 9.6 MB 4.8 MB/s \n",
            "\u001b[K     |████████████████████████████████| 49 kB 4.2 MB/s \n",
            "\u001b[?25hSelecting previously unselected package libsuitesparseconfig5:amd64.\n",
            "(Reading database ... 156210 files and directories currently installed.)\n",
            "Preparing to unpack .../libsuitesparseconfig5_1%3a5.1.2-2_amd64.deb ...\n",
            "Unpacking libsuitesparseconfig5:amd64 (1:5.1.2-2) ...\n",
            "Selecting previously unselected package libamd2:amd64.\n",
            "Preparing to unpack .../libamd2_1%3a5.1.2-2_amd64.deb ...\n",
            "Unpacking libamd2:amd64 (1:5.1.2-2) ...\n",
            "Selecting previously unselected package libcolamd2:amd64.\n",
            "Preparing to unpack .../libcolamd2_1%3a5.1.2-2_amd64.deb ...\n",
            "Unpacking libcolamd2:amd64 (1:5.1.2-2) ...\n",
            "Selecting previously unselected package libglpk40:amd64.\n",
            "Preparing to unpack .../libglpk40_4.65-1_amd64.deb ...\n",
            "Unpacking libglpk40:amd64 (4.65-1) ...\n",
            "Selecting previously unselected package glpk-utils.\n",
            "Preparing to unpack .../glpk-utils_4.65-1_amd64.deb ...\n",
            "Unpacking glpk-utils (4.65-1) ...\n",
            "Setting up libsuitesparseconfig5:amd64 (1:5.1.2-2) ...\n",
            "Setting up libcolamd2:amd64 (1:5.1.2-2) ...\n",
            "Setting up libamd2:amd64 (1:5.1.2-2) ...\n",
            "Setting up libglpk40:amd64 (4.65-1) ...\n",
            "Setting up glpk-utils (4.65-1) ...\n",
            "Processing triggers for libc-bin (2.27-3ubuntu1.3) ...\n",
            "/sbin/ldconfig.real: /usr/local/lib/python3.7/dist-packages/ideep4py/lib/libmkldnn.so.0 is not a symbolic link\n",
            "\n",
            "Processing triggers for man-db (2.8.3-2ubuntu0.1) ...\n"
          ]
        }
      ]
    },
    {
      "cell_type": "code",
      "source": [
        "import pandas as pd\n",
        "df = pd.read_csv(\"https://raw.githubusercontent.com/KaranJoseph/DemandForecasting_SCA/main/Data/Output.csv\")\n",
        "df = df[[\"Item_ID\", \"Pred\"]].dropna()\n",
        "\n",
        "maxx = df[\"Pred\"].max() + 50000 #Big M constraint"
      ],
      "metadata": {
        "id": "5fJdKz5x-qpL"
      },
      "execution_count": null,
      "outputs": []
    },
    {
      "cell_type": "code",
      "source": [
        "Co = 80000 #Ordering Cost\n",
        "Ch = 5/12 #Holding Cost"
      ],
      "metadata": {
        "id": "2UFzK4HK_L5D"
      },
      "execution_count": null,
      "outputs": []
    },
    {
      "cell_type": "code",
      "source": [
        "from pyomo.environ import *\n",
        "\n",
        "def optimizer(x):\n",
        "  model = ConcreteModel()\n",
        "  #Variables \n",
        "  model.y = Var(list(range(1, len(x)+1)), within=Binary) # Order yes or no\n",
        "  model.s = Var(list(range(1, len(x)+1)), within=NonNegativeReals) # Inventory at period i\n",
        "  model.q = Var(list(range(1, len(x)+1)), within=NonNegativeReals) # Order Quantity at period i\n",
        "\n",
        "  #Objective\n",
        "  obj1 = 0\n",
        "  obj2 = 0\n",
        "  for i in range(1, len(x)+1):\n",
        "    obj1 += model.y[i]\n",
        "    obj2 += model.s[i]\n",
        "  model.OBJ = Objective(sense=minimize, expr = Co*obj1 + Ch*obj2)\n",
        "\n",
        "  #Constraints\n",
        "  model.order1 = Constraint(expr = model.q[1] <= model.y[1]*maxx)\n",
        "  model.order2 = Constraint(expr = model.q[2] <= model.y[2]*maxx)\n",
        "  model.order3 = Constraint(expr = model.q[3] <= model.y[3]*maxx)\n",
        "  model.order4 = Constraint(expr = model.q[4] <= model.y[4]*maxx)\n",
        "  model.order5 = Constraint(expr = model.q[5] <= model.y[5]*maxx)\n",
        "  model.order6 = Constraint(expr = model.q[6] <= model.y[6]*maxx)\n",
        "  model.order7 = Constraint(expr = model.q[7] <= model.y[7]*maxx)\n",
        "  model.order8 = Constraint(expr = model.q[8] <= model.y[8]*maxx)\n",
        "\n",
        "\n",
        "  model.inv1 = Constraint(expr = model.s[1] - model.q[1] + x[0] == 0) #Initial Inventory = 0 (Assumption)\n",
        "  model.inv2 = Constraint(expr = model.s[2] - model.s[1] - model.q[2] + x[1] == 0)\n",
        "  model.inv3 = Constraint(expr = model.s[3] - model.s[2] - model.q[3] + x[2] == 0)\n",
        "  model.inv4 = Constraint(expr = model.s[4] - model.s[3] - model.q[4] + x[3] == 0)\n",
        "  model.inv5 = Constraint(expr = model.s[5] - model.s[4] - model.q[5] + x[4] == 0)\n",
        "  model.inv6 = Constraint(expr = model.s[6] - model.s[5] - model.q[6] + x[5] == 0)\n",
        "  model.inv7 = Constraint(expr = model.s[7] - model.s[6] - model.q[7] + x[6] == 0)\n",
        "  model.inv8 = Constraint(expr = model.s[8] - model.s[7] - model.q[8] + x[7] == 0)\n",
        "\n",
        "  #model.pprint()\n",
        "  opt = SolverFactory('glpk')\n",
        "  opt.solve(model) \n",
        "  #model.display()\n",
        "  return model"
      ],
      "metadata": {
        "id": "FHcrYf19ACjs"
      },
      "execution_count": null,
      "outputs": []
    },
    {
      "cell_type": "code",
      "source": [
        "df_im = pd.DataFrame()\n",
        "cost = {}\n",
        "for item in df[\"Item_ID\"].unique():\n",
        "  temp = df[df[\"Item_ID\"] == item].reset_index().drop(\"index\", axis=1)\n",
        "  model = optimizer(temp[\"Pred\"].values)\n",
        "  order = []\n",
        "  qty = []\n",
        "  inv = []\n",
        "  for i in range(1, temp.shape[0]+1):\n",
        "    order.append(model.y[i].value)\n",
        "    qty.append(model.q[i].value)\n",
        "    inv.append(model.s[i].value)\n",
        "\n",
        "  qty = pd.Series(qty, name=\"OrderQty\")\n",
        "  inv = pd.Series(inv, name=\"Inventory\")\n",
        "  order = pd.Series(order, name=\"Order(yes/no)\")\n",
        "  t = pd.concat([temp, qty, inv, order], axis=1)\n",
        "  df_im = df_im.append(t)\n",
        "\n",
        "  cost[item] = round(model.OBJ(),2)"
      ],
      "metadata": {
        "id": "RKl-mdLKARnR"
      },
      "execution_count": null,
      "outputs": []
    },
    {
      "cell_type": "code",
      "source": [
        "type(t)"
      ],
      "metadata": {
        "colab": {
          "base_uri": "https://localhost:8080/"
        },
        "id": "rIrN03tiBuPE",
        "outputId": "c43c031b-e01c-4a62-c5ce-1ef6e6eddb6c"
      },
      "execution_count": null,
      "outputs": [
        {
          "output_type": "execute_result",
          "data": {
            "text/plain": [
              "pandas.core.frame.DataFrame"
            ]
          },
          "metadata": {},
          "execution_count": 212
        }
      ]
    },
    {
      "cell_type": "code",
      "source": [
        "df_im.head()"
      ],
      "metadata": {
        "colab": {
          "base_uri": "https://localhost:8080/",
          "height": 206
        },
        "id": "8OHpATIzBvKr",
        "outputId": "6413c4bd-734c-4573-95ac-3713983da02a"
      },
      "execution_count": null,
      "outputs": [
        {
          "output_type": "execute_result",
          "data": {
            "text/plain": [
              "   Item_ID          Pred      OrderQty     Inventory  Order(yes/no)\n",
              "0  1267128  13744.703494  5.617225e+04  42427.549007            1.0\n",
              "1  1267128  13295.465074  0.000000e+00  29132.083933            0.0\n",
              "2  1267128  15255.420539  7.275958e-12  13876.663394            0.0\n",
              "3  1267128  13876.663394  0.000000e+00      0.000000            0.0\n",
              "4  1267128  12821.709087  5.395715e+04  41135.442962            1.0"
            ],
            "text/html": [
              "\n",
              "  <div id=\"df-84b6186f-5ec4-4f7c-9216-2105cf4aca32\">\n",
              "    <div class=\"colab-df-container\">\n",
              "      <div>\n",
              "<style scoped>\n",
              "    .dataframe tbody tr th:only-of-type {\n",
              "        vertical-align: middle;\n",
              "    }\n",
              "\n",
              "    .dataframe tbody tr th {\n",
              "        vertical-align: top;\n",
              "    }\n",
              "\n",
              "    .dataframe thead th {\n",
              "        text-align: right;\n",
              "    }\n",
              "</style>\n",
              "<table border=\"1\" class=\"dataframe\">\n",
              "  <thead>\n",
              "    <tr style=\"text-align: right;\">\n",
              "      <th></th>\n",
              "      <th>Item_ID</th>\n",
              "      <th>Pred</th>\n",
              "      <th>OrderQty</th>\n",
              "      <th>Inventory</th>\n",
              "      <th>Order(yes/no)</th>\n",
              "    </tr>\n",
              "  </thead>\n",
              "  <tbody>\n",
              "    <tr>\n",
              "      <th>0</th>\n",
              "      <td>1267128</td>\n",
              "      <td>13744.703494</td>\n",
              "      <td>5.617225e+04</td>\n",
              "      <td>42427.549007</td>\n",
              "      <td>1.0</td>\n",
              "    </tr>\n",
              "    <tr>\n",
              "      <th>1</th>\n",
              "      <td>1267128</td>\n",
              "      <td>13295.465074</td>\n",
              "      <td>0.000000e+00</td>\n",
              "      <td>29132.083933</td>\n",
              "      <td>0.0</td>\n",
              "    </tr>\n",
              "    <tr>\n",
              "      <th>2</th>\n",
              "      <td>1267128</td>\n",
              "      <td>15255.420539</td>\n",
              "      <td>7.275958e-12</td>\n",
              "      <td>13876.663394</td>\n",
              "      <td>0.0</td>\n",
              "    </tr>\n",
              "    <tr>\n",
              "      <th>3</th>\n",
              "      <td>1267128</td>\n",
              "      <td>13876.663394</td>\n",
              "      <td>0.000000e+00</td>\n",
              "      <td>0.000000</td>\n",
              "      <td>0.0</td>\n",
              "    </tr>\n",
              "    <tr>\n",
              "      <th>4</th>\n",
              "      <td>1267128</td>\n",
              "      <td>12821.709087</td>\n",
              "      <td>5.395715e+04</td>\n",
              "      <td>41135.442962</td>\n",
              "      <td>1.0</td>\n",
              "    </tr>\n",
              "  </tbody>\n",
              "</table>\n",
              "</div>\n",
              "      <button class=\"colab-df-convert\" onclick=\"convertToInteractive('df-84b6186f-5ec4-4f7c-9216-2105cf4aca32')\"\n",
              "              title=\"Convert this dataframe to an interactive table.\"\n",
              "              style=\"display:none;\">\n",
              "        \n",
              "  <svg xmlns=\"http://www.w3.org/2000/svg\" height=\"24px\"viewBox=\"0 0 24 24\"\n",
              "       width=\"24px\">\n",
              "    <path d=\"M0 0h24v24H0V0z\" fill=\"none\"/>\n",
              "    <path d=\"M18.56 5.44l.94 2.06.94-2.06 2.06-.94-2.06-.94-.94-2.06-.94 2.06-2.06.94zm-11 1L8.5 8.5l.94-2.06 2.06-.94-2.06-.94L8.5 2.5l-.94 2.06-2.06.94zm10 10l.94 2.06.94-2.06 2.06-.94-2.06-.94-.94-2.06-.94 2.06-2.06.94z\"/><path d=\"M17.41 7.96l-1.37-1.37c-.4-.4-.92-.59-1.43-.59-.52 0-1.04.2-1.43.59L10.3 9.45l-7.72 7.72c-.78.78-.78 2.05 0 2.83L4 21.41c.39.39.9.59 1.41.59.51 0 1.02-.2 1.41-.59l7.78-7.78 2.81-2.81c.8-.78.8-2.07 0-2.86zM5.41 20L4 18.59l7.72-7.72 1.47 1.35L5.41 20z\"/>\n",
              "  </svg>\n",
              "      </button>\n",
              "      \n",
              "  <style>\n",
              "    .colab-df-container {\n",
              "      display:flex;\n",
              "      flex-wrap:wrap;\n",
              "      gap: 12px;\n",
              "    }\n",
              "\n",
              "    .colab-df-convert {\n",
              "      background-color: #E8F0FE;\n",
              "      border: none;\n",
              "      border-radius: 50%;\n",
              "      cursor: pointer;\n",
              "      display: none;\n",
              "      fill: #1967D2;\n",
              "      height: 32px;\n",
              "      padding: 0 0 0 0;\n",
              "      width: 32px;\n",
              "    }\n",
              "\n",
              "    .colab-df-convert:hover {\n",
              "      background-color: #E2EBFA;\n",
              "      box-shadow: 0px 1px 2px rgba(60, 64, 67, 0.3), 0px 1px 3px 1px rgba(60, 64, 67, 0.15);\n",
              "      fill: #174EA6;\n",
              "    }\n",
              "\n",
              "    [theme=dark] .colab-df-convert {\n",
              "      background-color: #3B4455;\n",
              "      fill: #D2E3FC;\n",
              "    }\n",
              "\n",
              "    [theme=dark] .colab-df-convert:hover {\n",
              "      background-color: #434B5C;\n",
              "      box-shadow: 0px 1px 3px 1px rgba(0, 0, 0, 0.15);\n",
              "      filter: drop-shadow(0px 1px 2px rgba(0, 0, 0, 0.3));\n",
              "      fill: #FFFFFF;\n",
              "    }\n",
              "  </style>\n",
              "\n",
              "      <script>\n",
              "        const buttonEl =\n",
              "          document.querySelector('#df-84b6186f-5ec4-4f7c-9216-2105cf4aca32 button.colab-df-convert');\n",
              "        buttonEl.style.display =\n",
              "          google.colab.kernel.accessAllowed ? 'block' : 'none';\n",
              "\n",
              "        async function convertToInteractive(key) {\n",
              "          const element = document.querySelector('#df-84b6186f-5ec4-4f7c-9216-2105cf4aca32');\n",
              "          const dataTable =\n",
              "            await google.colab.kernel.invokeFunction('convertToInteractive',\n",
              "                                                     [key], {});\n",
              "          if (!dataTable) return;\n",
              "\n",
              "          const docLinkHtml = 'Like what you see? Visit the ' +\n",
              "            '<a target=\"_blank\" href=https://colab.research.google.com/notebooks/data_table.ipynb>data table notebook</a>'\n",
              "            + ' to learn more about interactive tables.';\n",
              "          element.innerHTML = '';\n",
              "          dataTable['output_type'] = 'display_data';\n",
              "          await google.colab.output.renderOutput(dataTable, element);\n",
              "          const docLink = document.createElement('div');\n",
              "          docLink.innerHTML = docLinkHtml;\n",
              "          element.appendChild(docLink);\n",
              "        }\n",
              "      </script>\n",
              "    </div>\n",
              "  </div>\n",
              "  "
            ]
          },
          "metadata": {},
          "execution_count": 220
        }
      ]
    },
    {
      "cell_type": "code",
      "source": [
        ""
      ],
      "metadata": {
        "id": "fEQeNcbIE1mK"
      },
      "execution_count": null,
      "outputs": []
    }
  ]
}