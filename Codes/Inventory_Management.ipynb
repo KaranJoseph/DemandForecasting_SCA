{
  "nbformat": 4,
  "nbformat_minor": 0,
  "metadata": {
    "colab": {
      "name": "Inventory Management.ipynb",
      "provenance": [],
      "authorship_tag": "ABX9TyPnfJsk4vcQxAjqpyr7aHxn",
      "include_colab_link": true
    },
    "kernelspec": {
      "name": "python3",
      "display_name": "Python 3"
    },
    "language_info": {
      "name": "python"
    }
  },
  "cells": [
    {
      "cell_type": "markdown",
      "metadata": {
        "id": "view-in-github",
        "colab_type": "text"
      },
      "source": [
        "<a href=\"https://colab.research.google.com/github/KaranJoseph/DemandForecasting_SCA/blob/main/Codes/Inventory_Management.ipynb\" target=\"_parent\"><img src=\"https://colab.research.google.com/assets/colab-badge.svg\" alt=\"Open In Colab\"/></a>"
      ]
    },
    {
      "cell_type": "code",
      "execution_count": null,
      "metadata": {
        "colab": {
          "base_uri": "https://localhost:8080/"
        },
        "id": "VIvodK4Sw9nX",
        "outputId": "6eb6add9-2a2a-4cbf-9af1-8165dd5fa3e4"
      },
      "outputs": [
        {
          "output_type": "stream",
          "name": "stdout",
          "text": [
            "\u001b[K     |████████████████████████████████| 9.6 MB 577 kB/s \n",
            "\u001b[K     |████████████████████████████████| 49 kB 2.7 MB/s \n",
            "\u001b[?25hSelecting previously unselected package libsuitesparseconfig5:amd64.\n",
            "(Reading database ... 156210 files and directories currently installed.)\n",
            "Preparing to unpack .../libsuitesparseconfig5_1%3a5.1.2-2_amd64.deb ...\n",
            "Unpacking libsuitesparseconfig5:amd64 (1:5.1.2-2) ...\n",
            "Selecting previously unselected package libamd2:amd64.\n",
            "Preparing to unpack .../libamd2_1%3a5.1.2-2_amd64.deb ...\n",
            "Unpacking libamd2:amd64 (1:5.1.2-2) ...\n",
            "Selecting previously unselected package libcolamd2:amd64.\n",
            "Preparing to unpack .../libcolamd2_1%3a5.1.2-2_amd64.deb ...\n",
            "Unpacking libcolamd2:amd64 (1:5.1.2-2) ...\n",
            "Selecting previously unselected package libglpk40:amd64.\n",
            "Preparing to unpack .../libglpk40_4.65-1_amd64.deb ...\n",
            "Unpacking libglpk40:amd64 (4.65-1) ...\n",
            "Selecting previously unselected package glpk-utils.\n",
            "Preparing to unpack .../glpk-utils_4.65-1_amd64.deb ...\n",
            "Unpacking glpk-utils (4.65-1) ...\n",
            "Setting up libsuitesparseconfig5:amd64 (1:5.1.2-2) ...\n",
            "Setting up libcolamd2:amd64 (1:5.1.2-2) ...\n",
            "Setting up libamd2:amd64 (1:5.1.2-2) ...\n",
            "Setting up libglpk40:amd64 (4.65-1) ...\n",
            "Setting up glpk-utils (4.65-1) ...\n",
            "Processing triggers for libc-bin (2.27-3ubuntu1.3) ...\n",
            "/sbin/ldconfig.real: /usr/local/lib/python3.7/dist-packages/ideep4py/lib/libmkldnn.so.0 is not a symbolic link\n",
            "\n",
            "Processing triggers for man-db (2.8.3-2ubuntu0.1) ...\n"
          ]
        }
      ],
      "source": [
        "# Install Pyomo and GLPK\n",
        "!pip install -q pyomo\n",
        "!apt-get install -y -qq glpk-utils #if GLPK is used\n",
        "# !apt-get install -y -qq coinor-cbc #if cbc is used"
      ]
    },
    {
      "cell_type": "code",
      "source": [
        "import pandas as pd\n",
        "df = pd.read_csv(\"https://raw.githubusercontent.com/KaranJoseph/DemandForecasting_SCA/main/Data/Output.csv\")\n",
        "df = df[[\"Item_ID\", \"Ship_Date\", \"Pred\"]].dropna()\n",
        "\n",
        "maxx = df[\"Pred\"].max() + 50000 #Big M constraint"
      ],
      "metadata": {
        "id": "KiysS5LJxIcE"
      },
      "execution_count": null,
      "outputs": []
    },
    {
      "cell_type": "code",
      "source": [
        "# Assumptions\n",
        "\n",
        "Co = 0.5 #Ordering Cost per unit (Just for the sake of scaling the order cost by unit)\n",
        "Ch = 0.05 #Holding Cost per unit"
      ],
      "metadata": {
        "id": "LinvDuy8xKVQ"
      },
      "execution_count": null,
      "outputs": []
    },
    {
      "cell_type": "code",
      "source": [
        "from pyomo.environ import *\n",
        "\n",
        "def optimizer(x, Co):\n",
        "  \"\"\"\n",
        "    Parameters\n",
        "    ----------\n",
        "    x : numpy array\n",
        "        Forecasted shipment quantities for 8 weeks\n",
        "    Co : float \n",
        "        Order cost multiplier\n",
        "\n",
        "    Returns\n",
        "    -------\n",
        "    model : pyomo object \n",
        "            Optimized inventory management model based on the obj and constraints of shortest path method (Integer Linear Programming Model)\n",
        "    Co : float\n",
        "          Lot4Lot inventory calculation\n",
        "  \"\"\"\n",
        "  Co = x.mean() * Co\n",
        "\n",
        "  model = ConcreteModel()\n",
        "  #Variables \n",
        "  model.y = Var(list(range(1, len(x)+1)), within=Binary) # Order yes or no\n",
        "  model.s = Var(list(range(1, len(x)+1)), within=NonNegativeReals) # Inventory at period i\n",
        "  model.q = Var(list(range(1, len(x)+1)), within=NonNegativeReals) # Order Quantity at period i\n",
        "\n",
        "  #Objective\n",
        "  obj1 = 0\n",
        "  obj2 = 0\n",
        "  for i in range(1, len(x)+1):\n",
        "    obj1 += model.y[i]\n",
        "    obj2 += model.s[i]\n",
        "  model.OBJ = Objective(sense=minimize, expr = Co*obj1 + Ch*obj2)\n",
        "\n",
        "  #Constraints\n",
        "  model.order = ConstraintList()\n",
        "  model.inv = ConstraintList()\n",
        "\n",
        "  #Constraint 1: Constraint for order quantity\n",
        "  for i in range(1, len(x)+1):\n",
        "    const_expr = model.q[i] <= model.y[i]*maxx\n",
        "    model.order.add(expr = const_expr)\n",
        "  \n",
        "  #Constraint 2: Constraint for quantity meeting expected demand\n",
        "  model.inv.add(expr = model.s[1] - model.q[1] + x[0] == 0) #Initial Inventory is considered as 0\n",
        "  for i in range(2, len(x)+1):\n",
        "    const_expr = model.s[i] - model.s[i-1] - model.q[i] + x[i-1] == 0\n",
        "    model.inv.add(expr = const_expr)\n",
        "\n",
        "  #model.pprint()\n",
        "  opt = SolverFactory('glpk')\n",
        "  opt.solve(model) \n",
        "  #model.display()\n",
        "  return model, Co*len(x)"
      ],
      "metadata": {
        "id": "I27_wsG7xagc"
      },
      "execution_count": null,
      "outputs": []
    },
    {
      "cell_type": "code",
      "source": [
        "df_im = pd.DataFrame()\n",
        "cost = {}\n",
        "lot4lot = []\n",
        "\n",
        "for item in df[\"Item_ID\"].unique(): #Iterate through each item_id and calls optimizer function to get the best IM solution at Item level\n",
        "  temp = df[df[\"Item_ID\"] == item].reset_index().drop(\"index\", axis=1)\n",
        "  model, val = optimizer(temp[\"Pred\"].values, Co)\n",
        "  lot4lot.append(val)\n",
        "  order = []\n",
        "  qty = []\n",
        "  inv = []\n",
        "  for i in range(1, temp.shape[0]+1):\n",
        "    order.append(model.y[i].value)\n",
        "    qty.append(model.q[i].value)\n",
        "    inv.append(model.s[i].value)\n",
        "\n",
        "  qty = pd.Series(qty, name=\"OrderQty\")\n",
        "  inv = pd.Series(inv, name=\"Inventory\")\n",
        "  order = pd.Series(order, name=\"Order(yes/no)\")\n",
        "  t = pd.concat([temp, qty, inv, order], axis=1)\n",
        "  df_im = df_im.append(t)\n",
        "\n",
        "  cost[item] = round(model.OBJ(),2)"
      ],
      "metadata": {
        "id": "43SEyqW1xbJS"
      },
      "execution_count": null,
      "outputs": []
    },
    {
      "cell_type": "code",
      "source": [
        "s1 = pd.Series(cost.keys(), name=\"Item_ID\")\n",
        "s2 = pd.Series(cost.values(), name=\"Cost\")\n",
        "s3 = pd.Series(lot4lot, name = \"Lot4Lot\")\n",
        "s = pd.concat([s1,s2], axis=1)\n",
        "s = pd.concat([s, s3], axis=1)\n",
        "\n",
        "df_im = pd.merge(df_im, s, on=\"Item_ID\", how=\"left\")"
      ],
      "metadata": {
        "id": "DaZNlRgTxczy"
      },
      "execution_count": null,
      "outputs": []
    },
    {
      "cell_type": "code",
      "source": [
        "from google.colab import files\n",
        "\n",
        "df_im.rename({\"Pred\": \"ForecastedDemand\"},axis=1, inplace=True)\n",
        "df_im.to_csv(\"Inventory.csv\", index=False)\n",
        "files.download(\"Inventory.csv\")"
      ],
      "metadata": {
        "id": "ZvyzkfMuxwEG",
        "outputId": "7d9172f6-5595-4a65-954d-d49d9fc8b056",
        "colab": {
          "base_uri": "https://localhost:8080/",
          "height": 17
        }
      },
      "execution_count": null,
      "outputs": [
        {
          "output_type": "display_data",
          "data": {
            "text/plain": [
              "<IPython.core.display.Javascript object>"
            ],
            "application/javascript": [
              "\n",
              "    async function download(id, filename, size) {\n",
              "      if (!google.colab.kernel.accessAllowed) {\n",
              "        return;\n",
              "      }\n",
              "      const div = document.createElement('div');\n",
              "      const label = document.createElement('label');\n",
              "      label.textContent = `Downloading \"${filename}\": `;\n",
              "      div.appendChild(label);\n",
              "      const progress = document.createElement('progress');\n",
              "      progress.max = size;\n",
              "      div.appendChild(progress);\n",
              "      document.body.appendChild(div);\n",
              "\n",
              "      const buffers = [];\n",
              "      let downloaded = 0;\n",
              "\n",
              "      const channel = await google.colab.kernel.comms.open(id);\n",
              "      // Send a message to notify the kernel that we're ready.\n",
              "      channel.send({})\n",
              "\n",
              "      for await (const message of channel.messages) {\n",
              "        // Send a message to notify the kernel that we're ready.\n",
              "        channel.send({})\n",
              "        if (message.buffers) {\n",
              "          for (const buffer of message.buffers) {\n",
              "            buffers.push(buffer);\n",
              "            downloaded += buffer.byteLength;\n",
              "            progress.value = downloaded;\n",
              "          }\n",
              "        }\n",
              "      }\n",
              "      const blob = new Blob(buffers, {type: 'application/binary'});\n",
              "      const a = document.createElement('a');\n",
              "      a.href = window.URL.createObjectURL(blob);\n",
              "      a.download = filename;\n",
              "      div.appendChild(a);\n",
              "      a.click();\n",
              "      div.remove();\n",
              "    }\n",
              "  "
            ]
          },
          "metadata": {}
        },
        {
          "output_type": "display_data",
          "data": {
            "text/plain": [
              "<IPython.core.display.Javascript object>"
            ],
            "application/javascript": [
              "download(\"download_87014a98-3967-4149-b58a-2c584433e1a9\", \"Inventory.csv\", 14780)"
            ]
          },
          "metadata": {}
        }
      ]
    }
  ]
}