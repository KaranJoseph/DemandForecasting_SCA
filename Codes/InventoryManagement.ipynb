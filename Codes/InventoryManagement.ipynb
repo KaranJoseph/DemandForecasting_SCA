{
  "nbformat": 4,
  "nbformat_minor": 0,
  "metadata": {
    "colab": {
      "name": "Untitled3.ipynb",
      "provenance": [],
      "collapsed_sections": [],
      "authorship_tag": "ABX9TyMkTeA91ZD/9HJ5+h+fWZ3p",
      "include_colab_link": true
    },
    "kernelspec": {
      "name": "python3",
      "display_name": "Python 3"
    },
    "language_info": {
      "name": "python"
    }
  },
  "cells": [
    {
      "cell_type": "markdown",
      "metadata": {
        "id": "view-in-github",
        "colab_type": "text"
      },
      "source": [
        "<a href=\"https://colab.research.google.com/github/KaranJoseph/DemandForecasting_SCA/blob/main/InventoryManagement.ipynb\" target=\"_parent\"><img src=\"https://colab.research.google.com/assets/colab-badge.svg\" alt=\"Open In Colab\"/></a>"
      ]
    },
    {
      "cell_type": "code",
      "source": [
        "# Install Pyomo and GLPK\n",
        "!pip install -q pyomo\n",
        "!apt-get install -y -qq glpk-utils #if GLPK is used\n",
        "# !apt-get install -y -qq coinor-cbc #if cbc is used"
      ],
      "metadata": {
        "id": "sYL_F6sx_hg3"
      },
      "execution_count": 8,
      "outputs": []
    },
    {
      "cell_type": "code",
      "source": [
        "import pandas as pd\n",
        "df = pd.read_csv(\"https://raw.githubusercontent.com/KaranJoseph/DemandForecasting_SCA/main/Data/Output.csv\")\n",
        "df = df[[\"Item_ID\", \"Ship_Date\", \"Pred\"]].dropna()\n",
        "\n",
        "maxx = df[\"Pred\"].max() + 50000 #Big M constraint"
      ],
      "metadata": {
        "id": "5fJdKz5x-qpL"
      },
      "execution_count": 9,
      "outputs": []
    },
    {
      "cell_type": "code",
      "source": [
        "Co = 0.5 #Ordering Cost\n",
        "Ch = 0.05 #Holding Cost per unit"
      ],
      "metadata": {
        "id": "2UFzK4HK_L5D"
      },
      "execution_count": 10,
      "outputs": []
    },
    {
      "cell_type": "code",
      "source": [
        "from pyomo.environ import *\n",
        "\n",
        "def optimizer(x, Co):\n",
        "  \"\"\"\n",
        "    Parameters\n",
        "    ----------\n",
        "    x : numpy array\n",
        "        Forecasted shipment quantities for 8 weeks\n",
        "    Co : float \n",
        "        Order cost multiplier\n",
        "\n",
        "    Returns\n",
        "    -------\n",
        "    model : pyomo object \n",
        "            Optimized inventory management model based on the obj and constraints of shortest path method (Integer Linear Programming Model)\n",
        "  \"\"\"\n",
        "  Co = x.mean() * Co\n",
        "\n",
        "  model = ConcreteModel()\n",
        "  #Variables \n",
        "  model.y = Var(list(range(1, len(x)+1)), within=Binary) # Order yes or no\n",
        "  model.s = Var(list(range(1, len(x)+1)), within=NonNegativeReals) # Inventory at period i\n",
        "  model.q = Var(list(range(1, len(x)+1)), within=NonNegativeReals) # Order Quantity at period i\n",
        "\n",
        "  #Objective\n",
        "  obj1 = 0\n",
        "  obj2 = 0\n",
        "  for i in range(1, len(x)+1):\n",
        "    obj1 += model.y[i]\n",
        "    obj2 += model.s[i]\n",
        "  model.OBJ = Objective(sense=minimize, expr = Co*obj1 + Ch*obj2)\n",
        "\n",
        "  #Constraints\n",
        "  model.order1 = Constraint(expr = model.q[1] <= model.y[1]*maxx)\n",
        "  model.order2 = Constraint(expr = model.q[2] <= model.y[2]*maxx)\n",
        "  model.order3 = Constraint(expr = model.q[3] <= model.y[3]*maxx)\n",
        "  model.order4 = Constraint(expr = model.q[4] <= model.y[4]*maxx)\n",
        "  model.order5 = Constraint(expr = model.q[5] <= model.y[5]*maxx)\n",
        "  model.order6 = Constraint(expr = model.q[6] <= model.y[6]*maxx)\n",
        "  model.order7 = Constraint(expr = model.q[7] <= model.y[7]*maxx)\n",
        "  model.order8 = Constraint(expr = model.q[8] <= model.y[8]*maxx)\n",
        "\n",
        "\n",
        "  model.inv1 = Constraint(expr = model.s[1] - model.q[1] + x[0] == 0) #Initial Inventory = 0 (Assumption)\n",
        "  model.inv2 = Constraint(expr = model.s[2] - model.s[1] - model.q[2] + x[1] == 0)\n",
        "  model.inv3 = Constraint(expr = model.s[3] - model.s[2] - model.q[3] + x[2] == 0)\n",
        "  model.inv4 = Constraint(expr = model.s[4] - model.s[3] - model.q[4] + x[3] == 0)\n",
        "  model.inv5 = Constraint(expr = model.s[5] - model.s[4] - model.q[5] + x[4] == 0)\n",
        "  model.inv6 = Constraint(expr = model.s[6] - model.s[5] - model.q[6] + x[5] == 0)\n",
        "  model.inv7 = Constraint(expr = model.s[7] - model.s[6] - model.q[7] + x[6] == 0)\n",
        "  model.inv8 = Constraint(expr = model.s[8] - model.s[7] - model.q[8] + x[7] == 0)\n",
        "\n",
        "  #model.pprint()\n",
        "  opt = SolverFactory('glpk')\n",
        "  opt.solve(model) \n",
        "  #model.display()\n",
        "  return model"
      ],
      "metadata": {
        "id": "FHcrYf19ACjs"
      },
      "execution_count": 11,
      "outputs": []
    },
    {
      "cell_type": "code",
      "source": [
        "df_im = pd.DataFrame()\n",
        "cost = {}\n",
        "\n",
        "for item in df[\"Item_ID\"].unique(): #Iterate through each item_id and calls optimizer function to get the best IM solution at Item level\n",
        "  temp = df[df[\"Item_ID\"] == item].reset_index().drop(\"index\", axis=1)\n",
        "  model = optimizer(temp[\"Pred\"].values, Co)\n",
        "  order = []\n",
        "  qty = []\n",
        "  inv = []\n",
        "  for i in range(1, temp.shape[0]+1):\n",
        "    order.append(model.y[i].value)\n",
        "    qty.append(model.q[i].value)\n",
        "    inv.append(model.s[i].value)\n",
        "\n",
        "  qty = pd.Series(qty, name=\"OrderQty\")\n",
        "  inv = pd.Series(inv, name=\"Inventory\")\n",
        "  order = pd.Series(order, name=\"Order(yes/no)\")\n",
        "  t = pd.concat([temp, qty, inv, order], axis=1)\n",
        "  df_im = df_im.append(t)\n",
        "\n",
        "  cost[item] = round(model.OBJ(),2)"
      ],
      "metadata": {
        "id": "RKl-mdLKARnR"
      },
      "execution_count": 12,
      "outputs": []
    },
    {
      "cell_type": "code",
      "source": [
        "s1 = pd.Series(cost.keys(), name=\"Item_ID\")\n",
        "s2 = pd.Series(cost.values(), name=\"Cost\")\n",
        "s = pd.concat([s1,s2], axis=1)\n",
        "\n",
        "df_im = pd.merge(df_im, s, on=\"Item_ID\", how=\"left\")"
      ],
      "metadata": {
        "id": "CiTtcIee7Dhl"
      },
      "execution_count": 13,
      "outputs": []
    },
    {
      "cell_type": "code",
      "source": [
        "from google.colab import files\n",
        "\n",
        "df_im.rename({\"Pred\": \"ForecastedDemand\"},axis=1, inplace=True)\n",
        "df_im.to_csv(\"Inventory.csv\", index=False)\n",
        "files.download(\"Inventory.csv\")"
      ],
      "metadata": {
        "colab": {
          "base_uri": "https://localhost:8080/",
          "height": 17
        },
        "id": "8OHpATIzBvKr",
        "outputId": "7d1ade0a-f95f-45ba-b042-439060002c10"
      },
      "execution_count": 14,
      "outputs": [
        {
          "output_type": "display_data",
          "data": {
            "text/plain": [
              "<IPython.core.display.Javascript object>"
            ],
            "application/javascript": [
              "\n",
              "    async function download(id, filename, size) {\n",
              "      if (!google.colab.kernel.accessAllowed) {\n",
              "        return;\n",
              "      }\n",
              "      const div = document.createElement('div');\n",
              "      const label = document.createElement('label');\n",
              "      label.textContent = `Downloading \"${filename}\": `;\n",
              "      div.appendChild(label);\n",
              "      const progress = document.createElement('progress');\n",
              "      progress.max = size;\n",
              "      div.appendChild(progress);\n",
              "      document.body.appendChild(div);\n",
              "\n",
              "      const buffers = [];\n",
              "      let downloaded = 0;\n",
              "\n",
              "      const channel = await google.colab.kernel.comms.open(id);\n",
              "      // Send a message to notify the kernel that we're ready.\n",
              "      channel.send({})\n",
              "\n",
              "      for await (const message of channel.messages) {\n",
              "        // Send a message to notify the kernel that we're ready.\n",
              "        channel.send({})\n",
              "        if (message.buffers) {\n",
              "          for (const buffer of message.buffers) {\n",
              "            buffers.push(buffer);\n",
              "            downloaded += buffer.byteLength;\n",
              "            progress.value = downloaded;\n",
              "          }\n",
              "        }\n",
              "      }\n",
              "      const blob = new Blob(buffers, {type: 'application/binary'});\n",
              "      const a = document.createElement('a');\n",
              "      a.href = window.URL.createObjectURL(blob);\n",
              "      a.download = filename;\n",
              "      div.appendChild(a);\n",
              "      a.click();\n",
              "      div.remove();\n",
              "    }\n",
              "  "
            ]
          },
          "metadata": {}
        },
        {
          "output_type": "display_data",
          "data": {
            "text/plain": [
              "<IPython.core.display.Javascript object>"
            ],
            "application/javascript": [
              "download(\"download_f4d72a33-4a51-43f1-83f2-a59972241fd7\", \"Inventory.csv\", 11844)"
            ]
          },
          "metadata": {}
        }
      ]
    }
  ]
}