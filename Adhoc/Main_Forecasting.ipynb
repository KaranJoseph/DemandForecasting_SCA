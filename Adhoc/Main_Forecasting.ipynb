{
  "cells": [
    {
      "cell_type": "code",
      "execution_count": null,
      "metadata": {
        "id": "BC9jPFEFRc6j",
        "colab": {
          "base_uri": "https://localhost:8080/"
        },
        "outputId": "b4dc321e-d104-432d-a5b9-bfe5d4b1c95d"
      },
      "outputs": [
        {
          "output_type": "stream",
          "name": "stderr",
          "text": [
            "/usr/local/lib/python3.7/dist-packages/statsmodels/tools/_testing.py:19: FutureWarning: pandas.util.testing is deprecated. Use the functions in the public API at pandas.testing instead.\n",
            "  import pandas.util.testing as tm\n"
          ]
        },
        {
          "output_type": "stream",
          "name": "stdout",
          "text": [
            "\u001b[K     |████████████████████████████████| 9.6 MB 7.2 MB/s \n",
            "\u001b[K     |████████████████████████████████| 49 kB 4.5 MB/s \n",
            "\u001b[?25hSelecting previously unselected package libsuitesparseconfig5:amd64.\n",
            "(Reading database ... 156210 files and directories currently installed.)\n",
            "Preparing to unpack .../libsuitesparseconfig5_1%3a5.1.2-2_amd64.deb ...\n",
            "Unpacking libsuitesparseconfig5:amd64 (1:5.1.2-2) ...\n",
            "Selecting previously unselected package libamd2:amd64.\n",
            "Preparing to unpack .../libamd2_1%3a5.1.2-2_amd64.deb ...\n",
            "Unpacking libamd2:amd64 (1:5.1.2-2) ...\n",
            "Selecting previously unselected package libcolamd2:amd64.\n",
            "Preparing to unpack .../libcolamd2_1%3a5.1.2-2_amd64.deb ...\n",
            "Unpacking libcolamd2:amd64 (1:5.1.2-2) ...\n",
            "Selecting previously unselected package libglpk40:amd64.\n",
            "Preparing to unpack .../libglpk40_4.65-1_amd64.deb ...\n",
            "Unpacking libglpk40:amd64 (4.65-1) ...\n",
            "Selecting previously unselected package glpk-utils.\n",
            "Preparing to unpack .../glpk-utils_4.65-1_amd64.deb ...\n",
            "Unpacking glpk-utils (4.65-1) ...\n",
            "Setting up libsuitesparseconfig5:amd64 (1:5.1.2-2) ...\n",
            "Setting up libcolamd2:amd64 (1:5.1.2-2) ...\n",
            "Setting up libamd2:amd64 (1:5.1.2-2) ...\n",
            "Setting up libglpk40:amd64 (4.65-1) ...\n",
            "Setting up glpk-utils (4.65-1) ...\n",
            "Processing triggers for libc-bin (2.27-3ubuntu1.3) ...\n",
            "/sbin/ldconfig.real: /usr/local/lib/python3.7/dist-packages/ideep4py/lib/libmkldnn.so.0 is not a symbolic link\n",
            "\n",
            "Processing triggers for man-db (2.8.3-2ubuntu0.1) ...\n"
          ]
        }
      ],
      "source": [
        "import pandas as pd\n",
        "from statsmodels.tsa.seasonal import seasonal_decompose\n",
        "from statsmodels.tsa.seasonal import seasonal_decompose \n",
        "from statsmodels.tsa.holtwinters import SimpleExpSmoothing   \n",
        "from statsmodels.tsa.holtwinters import ExponentialSmoothing\n",
        "import datetime\n",
        "import sklearn\n",
        "from sklearn import *\n",
        "sklearn.__version__\n",
        "import numpy as np \n",
        "#import numpy as np\n",
        "#import matplotlib.pyplot as plt\n",
        "#import seaborn as sns\n",
        "#%matplotlib inline\n",
        "from sklearn.metrics import mean_squared_error\n",
        "import matplotlib.pyplot as plt\n",
        "from statsmodels.tsa.statespace.sarimax import SARIMAX\n",
        "from statsmodels.tsa.stattools import acf, pacf\n",
        "from time import time\n",
        "import itertools\n",
        "from scipy.stats.stats import mode\n",
        "from statsmodels.tsa.statespace import sarimax\n",
        "from pylab import rcParams\n",
        "import statsmodels.api as sm\n",
        "from statsmodels.tsa.seasonal import seasonal_decompose\n",
        "from pylab import rcParams\n",
        "import statsmodels.api as sm\n",
        "from statsmodels.tsa.seasonal import seasonal_decompose\n",
        "from statsmodels.graphics.tsaplots import plot_acf, plot_pacf\n",
        "from pylab import rcParams\n",
        "import statsmodels.api as sm\n",
        "from statsmodels.tsa.seasonal import seasonal_decompose\n",
        "from statsmodels.graphics.tsaplots import plot_acf, plot_pacf\n",
        "from fbprophet import Prophet\n",
        "# Install Pyomo and GLPK\n",
        "!pip install -q pyomo\n",
        "!apt-get install -y -qq glpk-utils\n",
        "from pyomo.environ import *"
      ]
    },
    {
      "cell_type": "code",
      "execution_count": null,
      "metadata": {
        "id": "ekGOWa18Bncj",
        "colab": {
          "resources": {
            "http://localhost:8080/nbextensions/google.colab/files.js": {
              "data": "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",
              "ok": true,
              "headers": [
                [
                  "content-type",
                  "application/javascript"
                ]
              ],
              "status": 200,
              "status_text": ""
            }
          },
          "base_uri": "https://localhost:8080/",
          "height": 182
        },
        "outputId": "e9d481c9-110c-4fe8-a64c-78299d1a4db0"
      },
      "outputs": [
        {
          "output_type": "display_data",
          "data": {
            "text/plain": [
              "<IPython.core.display.HTML object>"
            ],
            "text/html": [
              "\n",
              "     <input type=\"file\" id=\"files-bf47f649-62b9-447c-949e-d6418d590ab8\" name=\"files[]\" multiple disabled\n",
              "        style=\"border:none\" />\n",
              "     <output id=\"result-bf47f649-62b9-447c-949e-d6418d590ab8\">\n",
              "      Upload widget is only available when the cell has been executed in the\n",
              "      current browser session. Please rerun this cell to enable.\n",
              "      </output>\n",
              "      <script src=\"/nbextensions/google.colab/files.js\"></script> "
            ]
          },
          "metadata": {}
        },
        {
          "output_type": "stream",
          "name": "stdout",
          "text": [
            "Saving Scaling.csv to Scaling.csv\n"
          ]
        },
        {
          "output_type": "display_data",
          "data": {
            "text/plain": [
              "<IPython.core.display.HTML object>"
            ],
            "text/html": [
              "\n",
              "     <input type=\"file\" id=\"files-794aae2b-bbf4-4db7-8281-4632f507252e\" name=\"files[]\" multiple disabled\n",
              "        style=\"border:none\" />\n",
              "     <output id=\"result-794aae2b-bbf4-4db7-8281-4632f507252e\">\n",
              "      Upload widget is only available when the cell has been executed in the\n",
              "      current browser session. Please rerun this cell to enable.\n",
              "      </output>\n",
              "      <script src=\"/nbextensions/google.colab/files.js\"></script> "
            ]
          },
          "metadata": {}
        },
        {
          "output_type": "stream",
          "name": "stdout",
          "text": [
            "Saving Item.csv to Item.csv\n"
          ]
        },
        {
          "output_type": "display_data",
          "data": {
            "text/plain": [
              "<IPython.core.display.HTML object>"
            ],
            "text/html": [
              "\n",
              "     <input type=\"file\" id=\"files-2acdb9ef-a7de-44e3-a98f-d008b00a1216\" name=\"files[]\" multiple disabled\n",
              "        style=\"border:none\" />\n",
              "     <output id=\"result-2acdb9ef-a7de-44e3-a98f-d008b00a1216\">\n",
              "      Upload widget is only available when the cell has been executed in the\n",
              "      current browser session. Please rerun this cell to enable.\n",
              "      </output>\n",
              "      <script src=\"/nbextensions/google.colab/files.js\"></script> "
            ]
          },
          "metadata": {}
        },
        {
          "output_type": "stream",
          "name": "stdout",
          "text": [
            "Saving Division.csv to Division.csv\n"
          ]
        }
      ],
      "source": [
        "from google.colab import files\n",
        "import io\n",
        "uploaded = files.upload()\n",
        "df_scaling = pd.read_csv(io.BytesIO(uploaded['Scaling.csv']))\n",
        "df_scaling_division=df_scaling[[\"Item_ID\",\"Division_ID\",\"Division_Scaling_Factor\"]]\n",
        "df_scaling_cluster=df_scaling[[\"Item_ID\",\"Cluster_ID\",\"Cluster_Scaling_Factor\"]]\n",
        "uploaded = files.upload()\n",
        "df_items= pd.read_csv(io.BytesIO(uploaded['Item.csv']),parse_dates=['Ship_Date'])\n",
        "uploaded = files.upload()\n",
        "df_division = pd.read_csv(io.BytesIO(uploaded['Division.csv']), parse_dates=['Ship_Date']) "
      ]
    },
    {
      "cell_type": "code",
      "source": [
        "uploaded = files.upload()\n",
        "df_cluster = pd.read_csv(io.BytesIO(uploaded['Cluster.csv']), parse_dates=['Ship_Date']) "
      ],
      "metadata": {
        "colab": {
          "resources": {
            "http://localhost:8080/nbextensions/google.colab/files.js": {
              "data": "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",
              "ok": true,
              "headers": [
                [
                  "content-type",
                  "application/javascript"
                ]
              ],
              "status": 200,
              "status_text": ""
            }
          },
          "base_uri": "https://localhost:8080/",
          "height": 72
        },
        "id": "A-2cJCnB_0zF",
        "outputId": "b10f8072-344b-4e62-c62b-608862578ca8"
      },
      "execution_count": null,
      "outputs": [
        {
          "output_type": "display_data",
          "data": {
            "text/plain": [
              "<IPython.core.display.HTML object>"
            ],
            "text/html": [
              "\n",
              "     <input type=\"file\" id=\"files-ec8fdc39-e50a-4bda-86fe-dad0c2b23ca9\" name=\"files[]\" multiple disabled\n",
              "        style=\"border:none\" />\n",
              "     <output id=\"result-ec8fdc39-e50a-4bda-86fe-dad0c2b23ca9\">\n",
              "      Upload widget is only available when the cell has been executed in the\n",
              "      current browser session. Please rerun this cell to enable.\n",
              "      </output>\n",
              "      <script src=\"/nbextensions/google.colab/files.js\"></script> "
            ]
          },
          "metadata": {}
        },
        {
          "output_type": "stream",
          "name": "stdout",
          "text": [
            "Saving Cluster.csv to Cluster.csv\n"
          ]
        }
      ]
    },
    {
      "cell_type": "code",
      "execution_count": null,
      "metadata": {
        "id": "P8-Om_nhT8Db"
      },
      "outputs": [],
      "source": [
        "divisions=list(df_division[\"Division_ID\"].unique())\n",
        "clusters=list(df_cluster[\"Cluster_ID\"].unique())"
      ]
    },
    {
      "cell_type": "code",
      "execution_count": null,
      "metadata": {
        "id": "iRk6ILuFoH6h"
      },
      "outputs": [],
      "source": [
        "#Holt Winter Forecasting - Returns training and testing datasets with predicted values \n",
        "def Holt_Winter_Forecasting(training_dataset,testing_dataset,operation):\n",
        "  training_dataset.head(5)\n",
        "  training_dataset=training_dataset.set_index(\"Ship_Date\")\n",
        "  testing_dataset=testing_dataset.set_index(\"Ship_Date\")\n",
        "  y_train=training_dataset[\"Ship_Qty\"]\n",
        "  fitted_model = ExponentialSmoothing(y_train,trend=operation,seasonal=operation,seasonal_periods=13).fit(optimized=True)\n",
        "  testing_dataset[\"Prediction_Holt\"] = list(fitted_model.forecast(len(testing_dataset)))\n",
        "  \n",
        "  training_dataset[\"Prediction_Holt\"]=list(fitted_model.forecast(len(training_dataset)))\n",
        "  return training_dataset.reset_index(),testing_dataset.reset_index()"
      ]
    },
    {
      "cell_type": "code",
      "execution_count": null,
      "metadata": {
        "id": "VTj0jcnRqFbw"
      },
      "outputs": [],
      "source": [
        "#RMSE AND MAPE\n",
        "def calculate_rmse(actual,predicted):\n",
        "  rmse = np.sqrt(mean_squared_error(actual, predicted)).round(2)\n",
        "  return rmse\n",
        "def calculate_mape(actual,predicted):\n",
        "  mape= np.round(np.mean(np.abs(actual-predicted)/actual)*100,2)\n",
        "  return mape"
      ]
    },
    {
      "cell_type": "markdown",
      "metadata": {
        "id": "4BVYW3M1-llB"
      },
      "source": [
        "###***Holt-Winter***\n"
      ]
    },
    {
      "cell_type": "code",
      "execution_count": null,
      "metadata": {
        "id": "Grn4zTwPZZuz",
        "colab": {
          "base_uri": "https://localhost:8080/",
          "height": 745
        },
        "outputId": "4c05568a-1026-469b-9c5a-f4f69380a864"
      },
      "outputs": [
        {
          "output_type": "stream",
          "name": "stderr",
          "text": [
            "/usr/local/lib/python3.7/dist-packages/statsmodels/tsa/base/tsa_model.py:219: ValueWarning: A date index has been provided, but it has no associated frequency information and so will be ignored when e.g. forecasting.\n",
            "  ' ignored when e.g. forecasting.', ValueWarning)\n",
            "/usr/local/lib/python3.7/dist-packages/statsmodels/tsa/base/tsa_model.py:576: ValueWarning: No supported index is available. Prediction results will be given with an integer index beginning at `start`.\n",
            "  ValueWarning)\n",
            "/usr/local/lib/python3.7/dist-packages/statsmodels/tsa/base/tsa_model.py:576: ValueWarning: No supported index is available. Prediction results will be given with an integer index beginning at `start`.\n",
            "  ValueWarning)\n",
            "/usr/local/lib/python3.7/dist-packages/statsmodels/tsa/base/tsa_model.py:219: ValueWarning: A date index has been provided, but it has no associated frequency information and so will be ignored when e.g. forecasting.\n",
            "  ' ignored when e.g. forecasting.', ValueWarning)\n",
            "/usr/local/lib/python3.7/dist-packages/statsmodels/tsa/base/tsa_model.py:576: ValueWarning: No supported index is available. Prediction results will be given with an integer index beginning at `start`.\n",
            "  ValueWarning)\n",
            "/usr/local/lib/python3.7/dist-packages/statsmodels/tsa/base/tsa_model.py:576: ValueWarning: No supported index is available. Prediction results will be given with an integer index beginning at `start`.\n",
            "  ValueWarning)\n",
            "/usr/local/lib/python3.7/dist-packages/statsmodels/tsa/base/tsa_model.py:219: ValueWarning: A date index has been provided, but it has no associated frequency information and so will be ignored when e.g. forecasting.\n",
            "  ' ignored when e.g. forecasting.', ValueWarning)\n",
            "/usr/local/lib/python3.7/dist-packages/statsmodels/tsa/base/tsa_model.py:576: ValueWarning: No supported index is available. Prediction results will be given with an integer index beginning at `start`.\n",
            "  ValueWarning)\n",
            "/usr/local/lib/python3.7/dist-packages/statsmodels/tsa/base/tsa_model.py:576: ValueWarning: No supported index is available. Prediction results will be given with an integer index beginning at `start`.\n",
            "  ValueWarning)\n",
            "/usr/local/lib/python3.7/dist-packages/statsmodels/tsa/base/tsa_model.py:219: ValueWarning: A date index has been provided, but it has no associated frequency information and so will be ignored when e.g. forecasting.\n",
            "  ' ignored when e.g. forecasting.', ValueWarning)\n",
            "/usr/local/lib/python3.7/dist-packages/statsmodels/tsa/holtwinters.py:712: ConvergenceWarning: Optimization failed to converge. Check mle_retvals.\n",
            "  ConvergenceWarning)\n",
            "/usr/local/lib/python3.7/dist-packages/statsmodels/tsa/base/tsa_model.py:576: ValueWarning: No supported index is available. Prediction results will be given with an integer index beginning at `start`.\n",
            "  ValueWarning)\n",
            "/usr/local/lib/python3.7/dist-packages/statsmodels/tsa/base/tsa_model.py:576: ValueWarning: No supported index is available. Prediction results will be given with an integer index beginning at `start`.\n",
            "  ValueWarning)\n"
          ]
        },
        {
          "output_type": "display_data",
          "data": {
            "text/plain": [
              "<Figure size 432x288 with 1 Axes>"
            ],
            "image/png": "[encoded data removed]"
          },
          "metadata": {
            "needs_background": "light"
          }
        }
      ],
      "source": [
        "#Train-Test DataSet: 80% training 20% testing\n",
        "training_division_dataset=df_division[df_division[\"Ship_Date\"]<datetime.datetime(2019,11,1)]\n",
        "testing_division_dataset=df_division[df_division[\"Ship_Date\"]>=datetime.datetime(2019,11,1)]\n",
        "\n",
        "#x_train= training_dataset[[\"Division\",\"Ship_Date\"]]\n",
        "training_division_dataset=training_division_dataset.set_index(\"Ship_Date\")\n",
        "testing_division_dataset=testing_division_dataset.set_index(\"Ship_Date\")\n",
        "y_train=training_division_dataset[\"Ship_Qty\"]\n",
        "\n",
        "#x_test= testing_dataset[[\"Division\",\"Ship_Date\"]]\n",
        "y_test=testing_division_dataset[\"Ship_Qty\"]\n",
        "\n",
        "#Forecasting\n",
        "operation=\"add\"\n",
        "df_test=pd.DataFrame()\n",
        "#df_holt=pd.DataFrame(columns=[\"Ship_Date\",\"Division\",\"Ship_Qty\",\"Prediction\"])\n",
        "for div in divisions:\n",
        "  training_dataset=training_division_dataset[training_division_dataset[\"Division_ID\"]==div].reset_index()\n",
        "  testing_dataset=testing_division_dataset[testing_division_dataset[\"Division_ID\"]==div].reset_index()\n",
        "  training_dataset,testing_dataset=Holt_Winter_Forecasting(training_dataset,testing_dataset,operation)\n",
        "  df_test=df_test.append(testing_dataset)\n",
        "\n",
        "#Plotting\n",
        "df_test=df_test.set_index(\"Ship_Date\")\n",
        "plot_title=\"Holt_Winter_Forecast\" + \"_\" + operation\n",
        "y_train.plot(legend=True,label='TRAIN')\n",
        "y_test.plot(legend=True,label='TEST',figsize=(6,4))\n",
        "df_test[\"Prediction_Holt\"].plot(legend=True,label='PREDICTION')\n",
        "plt.title(plot_title)\n",
        "   \n",
        "#Merging\n",
        "df_test=df_test.reset_index()\n",
        "df_holt = pd.merge(df_test,df_scaling_division,how='left',on=\"Division_ID\")\n",
        "df_holt[\"Item_forecast_Holt\"]=df_holt[\"Prediction_Holt\"]*df_holt[\"Division_Scaling_Factor\"]\n",
        "df_holt=df_holt[[\"Ship_Date\",\"Division_ID\",\"Item_ID\",\"Item_forecast_Holt\"]]\n",
        "df_holt=pd.merge(df_holt,df_items[[\"Item_ID\",\"Ship_Date\",\"Ship_Qty\"]],on=[\"Item_ID\",\"Ship_Date\"],how=\"left\")\n",
        "df_holt=df_holt[df_holt[\"Ship_Qty\"]>0]\n"
      ]
    },
    {
      "cell_type": "code",
      "execution_count": null,
      "metadata": {
        "id": "9XT5g5nVOGjs"
      },
      "outputs": [],
      "source": [
        "#from google.colab import files\n",
        "\n",
        "#training_division_dataset.to_csv('output2.csv', encoding = 'utf-8-sig') \n",
        "#files.download('output2.csv')"
      ]
    },
    {
      "cell_type": "code",
      "execution_count": null,
      "metadata": {
        "id": "cqw-GySuVn3A"
      },
      "outputs": [],
      "source": [
        "items=list(df_items[\"Item_ID\"].unique())\n",
        "result=pd.DataFrame()\n",
        "result2=pd.DataFrame()\n",
        "for item in items:\n",
        "  df=df_holt[df_holt[\"Item_ID\"]==item]\n",
        "  actual=df[\"Ship_Qty\"]\n",
        "  predicted=df[\"Item_forecast_Holt\"]\n",
        "  mape_holt= calculate_mape(actual,predicted)\n",
        "  rmse_holt=calculate_rmse(actual,predicted)\n",
        "  holt_result=pd.DataFrame({'Method':[\"Holt Winter\"],\"Item_ID\":[item],'RMSE':[rmse_holt],'MAPE':[mape_holt]})\n",
        "  result=pd.concat([result,holt_result],axis=0)\n",
        "  holt_result2= pd.DataFrame({\"Item_ID\":[item],'RMSE_Holt':[rmse_holt],'MAPE_Holt':[mape_holt]})\n",
        "  result2=pd.concat([result2,holt_result2],axis=0)"
      ]
    },
    {
      "cell_type": "code",
      "execution_count": null,
      "metadata": {
        "id": "63H3CrijCRj_",
        "colab": {
          "base_uri": "https://localhost:8080/",
          "height": 677
        },
        "outputId": "e65cc694-6c39-4133-a65e-3ddcea1414ee"
      },
      "outputs": [
        {
          "output_type": "execute_result",
          "data": {
            "text/plain": [
              "   Item_ID  RMSE_Holt  MAPE_Holt\n",
              "0  1267128    1211.11       7.67\n",
              "0  1267133    2322.05      27.65\n",
              "0  1267261   52661.52      87.64\n",
              "0  1267319   35619.89      88.11\n",
              "0  1267375    1792.88      19.19\n",
              "0  1267504   35364.86      84.73\n",
              "0  1267746   81715.14      85.59\n",
              "0  1267908     901.46       7.80\n",
              "0  1268762    4083.68      96.74\n",
              "0  1269237     230.43      16.62\n",
              "0  1269265     275.13      18.48\n",
              "0  1269461    4425.67      41.03\n",
              "0  1269603   32698.24      85.77\n",
              "0  1269685    5782.30      59.71\n",
              "0  1269810    5332.87      36.02\n",
              "0  1269903    1060.99      92.35\n",
              "0  1269987     360.76      28.72\n",
              "0  1270349    1854.48      26.66\n",
              "0  1270707    5954.87      47.52\n",
              "0  1270709     537.84      43.00"
            ],
            "text/html": [
              "\n",
              "  <div id=\"df-da85cac4-9c37-4892-91eb-32fab73fc943\">\n",
              "    <div class=\"colab-df-container\">\n",
              "      <div>\n",
              "<style scoped>\n",
              "    .dataframe tbody tr th:only-of-type {\n",
              "        vertical-align: middle;\n",
              "    }\n",
              "\n",
              "    .dataframe tbody tr th {\n",
              "        vertical-align: top;\n",
              "    }\n",
              "\n",
              "    .dataframe thead th {\n",
              "        text-align: right;\n",
              "    }\n",
              "</style>\n",
              "<table border=\"1\" class=\"dataframe\">\n",
              "  <thead>\n",
              "    <tr style=\"text-align: right;\">\n",
              "      <th></th>\n",
              "      <th>Item_ID</th>\n",
              "      <th>RMSE_Holt</th>\n",
              "      <th>MAPE_Holt</th>\n",
              "    </tr>\n",
              "  </thead>\n",
              "  <tbody>\n",
              "    <tr>\n",
              "      <th>0</th>\n",
              "      <td>1267128</td>\n",
              "      <td>1211.11</td>\n",
              "      <td>7.67</td>\n",
              "    </tr>\n",
              "    <tr>\n",
              "      <th>0</th>\n",
              "      <td>1267133</td>\n",
              "      <td>2322.05</td>\n",
              "      <td>27.65</td>\n",
              "    </tr>\n",
              "    <tr>\n",
              "      <th>0</th>\n",
              "      <td>1267261</td>\n",
              "      <td>52661.52</td>\n",
              "      <td>87.64</td>\n",
              "    </tr>\n",
              "    <tr>\n",
              "      <th>0</th>\n",
              "      <td>1267319</td>\n",
              "      <td>35619.89</td>\n",
              "      <td>88.11</td>\n",
              "    </tr>\n",
              "    <tr>\n",
              "      <th>0</th>\n",
              "      <td>1267375</td>\n",
              "      <td>1792.88</td>\n",
              "      <td>19.19</td>\n",
              "    </tr>\n",
              "    <tr>\n",
              "      <th>0</th>\n",
              "      <td>1267504</td>\n",
              "      <td>35364.86</td>\n",
              "      <td>84.73</td>\n",
              "    </tr>\n",
              "    <tr>\n",
              "      <th>0</th>\n",
              "      <td>1267746</td>\n",
              "      <td>81715.14</td>\n",
              "      <td>85.59</td>\n",
              "    </tr>\n",
              "    <tr>\n",
              "      <th>0</th>\n",
              "      <td>1267908</td>\n",
              "      <td>901.46</td>\n",
              "      <td>7.80</td>\n",
              "    </tr>\n",
              "    <tr>\n",
              "      <th>0</th>\n",
              "      <td>1268762</td>\n",
              "      <td>4083.68</td>\n",
              "      <td>96.74</td>\n",
              "    </tr>\n",
              "    <tr>\n",
              "      <th>0</th>\n",
              "      <td>1269237</td>\n",
              "      <td>230.43</td>\n",
              "      <td>16.62</td>\n",
              "    </tr>\n",
              "    <tr>\n",
              "      <th>0</th>\n",
              "      <td>1269265</td>\n",
              "      <td>275.13</td>\n",
              "      <td>18.48</td>\n",
              "    </tr>\n",
              "    <tr>\n",
              "      <th>0</th>\n",
              "      <td>1269461</td>\n",
              "      <td>4425.67</td>\n",
              "      <td>41.03</td>\n",
              "    </tr>\n",
              "    <tr>\n",
              "      <th>0</th>\n",
              "      <td>1269603</td>\n",
              "      <td>32698.24</td>\n",
              "      <td>85.77</td>\n",
              "    </tr>\n",
              "    <tr>\n",
              "      <th>0</th>\n",
              "      <td>1269685</td>\n",
              "      <td>5782.30</td>\n",
              "      <td>59.71</td>\n",
              "    </tr>\n",
              "    <tr>\n",
              "      <th>0</th>\n",
              "      <td>1269810</td>\n",
              "      <td>5332.87</td>\n",
              "      <td>36.02</td>\n",
              "    </tr>\n",
              "    <tr>\n",
              "      <th>0</th>\n",
              "      <td>1269903</td>\n",
              "      <td>1060.99</td>\n",
              "      <td>92.35</td>\n",
              "    </tr>\n",
              "    <tr>\n",
              "      <th>0</th>\n",
              "      <td>1269987</td>\n",
              "      <td>360.76</td>\n",
              "      <td>28.72</td>\n",
              "    </tr>\n",
              "    <tr>\n",
              "      <th>0</th>\n",
              "      <td>1270349</td>\n",
              "      <td>1854.48</td>\n",
              "      <td>26.66</td>\n",
              "    </tr>\n",
              "    <tr>\n",
              "      <th>0</th>\n",
              "      <td>1270707</td>\n",
              "      <td>5954.87</td>\n",
              "      <td>47.52</td>\n",
              "    </tr>\n",
              "    <tr>\n",
              "      <th>0</th>\n",
              "      <td>1270709</td>\n",
              "      <td>537.84</td>\n",
              "      <td>43.00</td>\n",
              "    </tr>\n",
              "  </tbody>\n",
              "</table>\n",
              "</div>\n",
              "      <button class=\"colab-df-convert\" onclick=\"convertToInteractive('df-da85cac4-9c37-4892-91eb-32fab73fc943')\"\n",
              "              title=\"Convert this dataframe to an interactive table.\"\n",
              "              style=\"display:none;\">\n",
              "        \n",
              "  <svg xmlns=\"http://www.w3.org/2000/svg\" height=\"24px\"viewBox=\"0 0 24 24\"\n",
              "       width=\"24px\">\n",
              "    <path d=\"M0 0h24v24H0V0z\" fill=\"none\"/>\n",
              "    <path d=\"M18.56 5.44l.94 2.06.94-2.06 2.06-.94-2.06-.94-.94-2.06-.94 2.06-2.06.94zm-11 1L8.5 8.5l.94-2.06 2.06-.94-2.06-.94L8.5 2.5l-.94 2.06-2.06.94zm10 10l.94 2.06.94-2.06 2.06-.94-2.06-.94-.94-2.06-.94 2.06-2.06.94z\"/><path d=\"M17.41 7.96l-1.37-1.37c-.4-.4-.92-.59-1.43-.59-.52 0-1.04.2-1.43.59L10.3 9.45l-7.72 7.72c-.78.78-.78 2.05 0 2.83L4 21.41c.39.39.9.59 1.41.59.51 0 1.02-.2 1.41-.59l7.78-7.78 2.81-2.81c.8-.78.8-2.07 0-2.86zM5.41 20L4 18.59l7.72-7.72 1.47 1.35L5.41 20z\"/>\n",
              "  </svg>\n",
              "      </button>\n",
              "      \n",
              "  <style>\n",
              "    .colab-df-container {\n",
              "      display:flex;\n",
              "      flex-wrap:wrap;\n",
              "      gap: 12px;\n",
              "    }\n",
              "\n",
              "    .colab-df-convert {\n",
              "      background-color: #E8F0FE;\n",
              "      border: none;\n",
              "      border-radius: 50%;\n",
              "      cursor: pointer;\n",
              "      display: none;\n",
              "      fill: #1967D2;\n",
              "      height: 32px;\n",
              "      padding: 0 0 0 0;\n",
              "      width: 32px;\n",
              "    }\n",
              "\n",
              "    .colab-df-convert:hover {\n",
              "      background-color: #E2EBFA;\n",
              "      box-shadow: 0px 1px 2px rgba(60, 64, 67, 0.3), 0px 1px 3px 1px rgba(60, 64, 67, 0.15);\n",
              "      fill: #174EA6;\n",
              "    }\n",
              "\n",
              "    [theme=dark] .colab-df-convert {\n",
              "      background-color: #3B4455;\n",
              "      fill: #D2E3FC;\n",
              "    }\n",
              "\n",
              "    [theme=dark] .colab-df-convert:hover {\n",
              "      background-color: #434B5C;\n",
              "      box-shadow: 0px 1px 3px 1px rgba(0, 0, 0, 0.15);\n",
              "      filter: drop-shadow(0px 1px 2px rgba(0, 0, 0, 0.3));\n",
              "      fill: #FFFFFF;\n",
              "    }\n",
              "  </style>\n",
              "\n",
              "      <script>\n",
              "        const buttonEl =\n",
              "          document.querySelector('#df-da85cac4-9c37-4892-91eb-32fab73fc943 button.colab-df-convert');\n",
              "        buttonEl.style.display =\n",
              "          google.colab.kernel.accessAllowed ? 'block' : 'none';\n",
              "\n",
              "        async function convertToInteractive(key) {\n",
              "          const element = document.querySelector('#df-da85cac4-9c37-4892-91eb-32fab73fc943');\n",
              "          const dataTable =\n",
              "            await google.colab.kernel.invokeFunction('convertToInteractive',\n",
              "                                                     [key], {});\n",
              "          if (!dataTable) return;\n",
              "\n",
              "          const docLinkHtml = 'Like what you see? Visit the ' +\n",
              "            '<a target=\"_blank\" href=https://colab.research.google.com/notebooks/data_table.ipynb>data table notebook</a>'\n",
              "            + ' to learn more about interactive tables.';\n",
              "          element.innerHTML = '';\n",
              "          dataTable['output_type'] = 'display_data';\n",
              "          await google.colab.output.renderOutput(dataTable, element);\n",
              "          const docLink = document.createElement('div');\n",
              "          docLink.innerHTML = docLinkHtml;\n",
              "          element.appendChild(docLink);\n",
              "        }\n",
              "      </script>\n",
              "    </div>\n",
              "  </div>\n",
              "  "
            ]
          },
          "metadata": {},
          "execution_count": 10
        }
      ],
      "source": [
        "result2\n"
      ]
    },
    {
      "cell_type": "markdown",
      "metadata": {
        "id": "NdY2lDgDFyfa"
      },
      "source": [
        "###***SARIMA***\n"
      ]
    },
    {
      "cell_type": "code",
      "execution_count": null,
      "metadata": {
        "id": "bnOFbq0SGK-5",
        "colab": {
          "base_uri": "https://localhost:8080/",
          "height": 296
        },
        "outputId": "45cebfc7-877f-4d9b-f333-f5acb3403d2b"
      },
      "outputs": [
        {
          "output_type": "execute_result",
          "data": {
            "text/plain": [
              "<matplotlib.axes._subplots.AxesSubplot at 0x7f1f7d0b1510>"
            ]
          },
          "metadata": {},
          "execution_count": 11
        },
        {
          "output_type": "display_data",
          "data": {
            "text/plain": [
              "<Figure size 432x288 with 1 Axes>"
            ],
            "image/png": "[encoded data removed]"
          },
          "metadata": {
            "needs_background": "light"
          }
        }
      ],
      "source": [
        "training_division_dataset[training_division_dataset[\"Division_ID\"]==\"CA-FS\"][\"Ship_Qty\"].plot()"
      ]
    },
    {
      "cell_type": "code",
      "execution_count": null,
      "metadata": {
        "id": "B3Xa8lfq-BOD",
        "colab": {
          "base_uri": "https://localhost:8080/",
          "height": 306
        },
        "outputId": "a2a515f6-cda6-49b7-e49e-8c698f0f4450"
      },
      "outputs": [
        {
          "output_type": "execute_result",
          "data": {
            "text/plain": [
              "<matplotlib.axes._subplots.AxesSubplot at 0x7f1f7d022bd0>"
            ]
          },
          "metadata": {},
          "execution_count": 12
        },
        {
          "output_type": "display_data",
          "data": {
            "text/plain": [
              "<Figure size 432x288 with 1 Axes>"
            ],
            "image/png": "[encoded data removed]"
          },
          "metadata": {
            "needs_background": "light"
          }
        }
      ],
      "source": [
        "training_division_dataset[training_division_dataset[\"Division_ID\"]==\"US-RTL\"][\"Ship_Qty\"].plot()"
      ]
    },
    {
      "cell_type": "code",
      "execution_count": null,
      "metadata": {
        "id": "19FEns6j-EPa",
        "colab": {
          "base_uri": "https://localhost:8080/",
          "height": 296
        },
        "outputId": "56e62740-ae15-459a-b2f9-e2af44080c85"
      },
      "outputs": [
        {
          "output_type": "execute_result",
          "data": {
            "text/plain": [
              "<matplotlib.axes._subplots.AxesSubplot at 0x7f1f7cffa290>"
            ]
          },
          "metadata": {},
          "execution_count": 13
        },
        {
          "output_type": "display_data",
          "data": {
            "text/plain": [
              "<Figure size 432x288 with 1 Axes>"
            ],
            "image/png": "[encoded data removed]"
          },
          "metadata": {
            "needs_background": "light"
          }
        }
      ],
      "source": [
        "training_division_dataset[training_division_dataset[\"Division_ID\"]==\"US-FS\"][\"Ship_Qty\"].plot()"
      ]
    },
    {
      "cell_type": "code",
      "execution_count": null,
      "metadata": {
        "id": "A7Qodc8e-LNS",
        "colab": {
          "base_uri": "https://localhost:8080/",
          "height": 306
        },
        "outputId": "a97cfdc1-2dc3-4376-ab46-e3b514b1361e"
      },
      "outputs": [
        {
          "output_type": "execute_result",
          "data": {
            "text/plain": [
              "<matplotlib.axes._subplots.AxesSubplot at 0x7f1f7cf2e7d0>"
            ]
          },
          "metadata": {},
          "execution_count": 14
        },
        {
          "output_type": "display_data",
          "data": {
            "text/plain": [
              "<Figure size 432x288 with 1 Axes>"
            ],
            "image/png": "[encoded data removed]"
          },
          "metadata": {
            "needs_background": "light"
          }
        }
      ],
      "source": [
        "training_division_dataset[\"Ship_Qty\"].plot()"
      ]
    },
    {
      "cell_type": "code",
      "execution_count": null,
      "metadata": {
        "id": "uxL-3pYV-5eq",
        "colab": {
          "base_uri": "https://localhost:8080/",
          "height": 296
        },
        "outputId": "a45740be-093a-4d94-dc4e-9981031de308"
      },
      "outputs": [
        {
          "output_type": "execute_result",
          "data": {
            "text/plain": [
              "<matplotlib.axes._subplots.AxesSubplot at 0x7f1f7ceaca90>"
            ]
          },
          "metadata": {},
          "execution_count": 15
        },
        {
          "output_type": "display_data",
          "data": {
            "text/plain": [
              "<Figure size 432x288 with 1 Axes>"
            ],
            "image/png": "[encoded data removed]"
          },
          "metadata": {
            "needs_background": "light"
          }
        }
      ],
      "source": [
        "#Division- CA-FS\n",
        "#Removing Trend\n",
        "first_diff=df_division[df_division[\"Division_ID\"]==\"CA-FS\"][\"Ship_Qty\"].diff()[1:]\n",
        "training_division_dataset[training_division_dataset[\"Division_ID\"]==\"CA-FS\"][\"Ship_Qty\"].diff()[1:].plot()"
      ]
    },
    {
      "cell_type": "code",
      "execution_count": null,
      "metadata": {
        "id": "G_gG9XRAIxjL"
      },
      "outputs": [],
      "source": [
        "\n",
        "def SARIMAX_Forecasting(training_dataset,testing_dataset,order,seasonal_order):\n",
        "  model = sarimax.SARIMAX(training_dataset[\"Ship_Qty\"], order=order, seasonal_order=seasonal_order)\n",
        "  model_fit=model.fit()\n",
        "  testing_dataset[\"Prediction_Sarima\"]= model_fit.predict(start=44,end=52).reset_index().drop(\"index\",1)\n",
        "  return testing_dataset\n"
      ]
    },
    {
      "cell_type": "code",
      "source": [
        "attribute_dict={\"US-RTL\":[[1,1,0],[3,2,1,8]],\"CA-FS\":[[0,1,2],[3,2,1,8]],\"US-FS\":[[1,1,0],[3,2,1,8]],\"CA-RTL\":[[0,1,2],[3,2,1,8]]}"
      ],
      "metadata": {
        "id": "YrzN9A5_5NHI"
      },
      "execution_count": null,
      "outputs": []
    },
    {
      "cell_type": "code",
      "execution_count": null,
      "metadata": {
        "id": "1mVUZUz-evml",
        "colab": {
          "base_uri": "https://localhost:8080/"
        },
        "outputId": "241788ef-f7a2-4842-ddd9-9c91b9f5bc0e"
      },
      "outputs": [
        {
          "output_type": "stream",
          "name": "stderr",
          "text": [
            "/usr/local/lib/python3.7/dist-packages/statsmodels/tsa/statespace/sarimax.py:981: UserWarning: Non-stationary starting seasonal autoregressive Using zeros as starting parameters.\n",
            "  warn('Non-stationary starting seasonal autoregressive'\n",
            "/usr/local/lib/python3.7/dist-packages/statsmodels/base/model.py:512: ConvergenceWarning: Maximum Likelihood optimization failed to converge. Check mle_retvals\n",
            "  \"Check mle_retvals\", ConvergenceWarning)\n",
            "/usr/local/lib/python3.7/dist-packages/ipykernel_launcher.py:5: FutureWarning: In a future version of pandas all arguments of DataFrame.drop except for the argument 'labels' will be keyword-only\n",
            "  \"\"\"\n"
          ]
        }
      ],
      "source": [
        "\n",
        "df_test=pd.DataFrame()\n",
        "for div in divisions:\n",
        "  order=tuple(attribute_dict[div][0])\n",
        "  seasonal_order=tuple(attribute_dict[div][1])\n",
        "  training_dataset=training_division_dataset[training_division_dataset[\"Division_ID\"]==div].reset_index()\n",
        "  testing_dataset=testing_division_dataset[testing_division_dataset[\"Division_ID\"]==div].reset_index()\n",
        "  testing_dataset=SARIMAX_Forecasting(training_dataset,testing_dataset,order,seasonal_order)\n",
        "  df_test=df_test.append(testing_dataset)"
      ]
    },
    {
      "cell_type": "code",
      "execution_count": null,
      "metadata": {
        "id": "398F9A8qfEiu"
      },
      "outputs": [],
      "source": [
        "#Merging\n",
        "df_sarima = pd.merge(df_test,df_scaling,how='left',on=\"Division_ID\")\n",
        "df_sarima[\"Item_forecast_Sarima\"]=df_sarima[\"Prediction_Sarima\"]*df_sarima[\"Division_Scaling_Factor\"]\n",
        "df_sarima=df_sarima[[\"Ship_Date\",\"Division_ID\",\"Item_ID\",\"Item_forecast_Sarima\"]]\n",
        "df_sarima=pd.merge(df_sarima,df_items[[\"Item_ID\",\"Ship_Date\",\"Ship_Qty\"]],on=[\"Item_ID\",\"Ship_Date\"],how=\"left\")\n",
        "df_sarima=df_sarima[df_sarima[\"Ship_Qty\"]>0]\n"
      ]
    },
    {
      "cell_type": "code",
      "execution_count": null,
      "metadata": {
        "id": "nlsI4l2jJTvE"
      },
      "outputs": [],
      "source": [
        "sarima_result2=pd.DataFrame()\n",
        "for item in items:\n",
        "  df=df_sarima[df_sarima[\"Item_ID\"]==item]\n",
        "  actual=df[\"Ship_Qty\"]\n",
        "  predicted=df[\"Item_forecast_Sarima\"]\n",
        "  mape_sarima= calculate_mape(actual,predicted)\n",
        "  rmse_sarima=calculate_rmse(actual,predicted)\n",
        "  sarima_result=pd.DataFrame({'Method':[\"SARIMA\"],\"Item_ID\":[item],'RMSE':[rmse_sarima],'MAPE':[mape_sarima]})\n",
        "  result=pd.concat([result,sarima_result],axis=0)\n",
        "  sarima_result2= pd.concat([sarima_result2,pd.DataFrame({\"Item_ID\":[item],'RMSE_SARIMA':[rmse_sarima],'MAPE_SARIMA':[mape_sarima]})],axis=0)\n",
        "result2=pd.merge(result2,sarima_result2,on=[\"Item_ID\"],how=\"left\")"
      ]
    },
    {
      "cell_type": "code",
      "execution_count": null,
      "metadata": {
        "id": "4ckksQe0M7V9",
        "colab": {
          "base_uri": "https://localhost:8080/"
        },
        "outputId": "15cb3bcf-aa50-4563-fa80-2e8e8c8b4d00"
      },
      "outputs": [
        {
          "output_type": "stream",
          "name": "stderr",
          "text": [
            "/usr/local/lib/python3.7/dist-packages/ipykernel_launcher.py:1: FutureWarning: In a future version of pandas all arguments of DataFrame.drop except for the argument 'labels' will be keyword-only\n",
            "  \"\"\"Entry point for launching an IPython kernel.\n"
          ]
        }
      ],
      "source": [
        "result=result.reset_index().drop(\"index\",1)\n",
        "df1=result.groupby([\"Item_ID\",\"Method\"]).agg(\"max\")"
      ]
    },
    {
      "cell_type": "markdown",
      "source": [
        "###***PROPHET***"
      ],
      "metadata": {
        "id": "mryTNqxJeLqy"
      }
    },
    {
      "cell_type": "code",
      "source": [
        "def Prophet_Forecasting(training_dataset,testing_dataset):\n",
        "  df_train = training_dataset.rename({'Ship_Date': 'ds', 'Ship_Qty': 'y'}, axis=1)\n",
        "  df_test=pd.DataFrame()\n",
        "  df_test[\"ds\"]=testing_dataset[\"Ship_Date\"]\n",
        "  model=Prophet()\n",
        "  model.fit(df_train)\n",
        "  testing_dataset[\"Prediction_Prophet\"]=model.predict(df_test)[\"yhat\"]\n",
        "  return testing_dataset\n"
      ],
      "metadata": {
        "id": "KnBFAOis1c5E"
      },
      "execution_count": null,
      "outputs": []
    },
    {
      "cell_type": "code",
      "source": [
        "df_test=pd.DataFrame()\n",
        "for div in divisions:\n",
        "  training_dataset=training_division_dataset[training_division_dataset[\"Division_ID\"]==div].drop(\"Division_ID\",1).reset_index()\n",
        "  testing_dataset=testing_division_dataset[testing_division_dataset[\"Division_ID\"]==div].reset_index()\n",
        "  testing_dataset=Prophet_Forecasting(training_dataset,testing_dataset)\n",
        "  df_test=df_test.append(testing_dataset)"
      ],
      "metadata": {
        "colab": {
          "base_uri": "https://localhost:8080/"
        },
        "id": "0LM6k4zfjTop",
        "outputId": "c05c6893-db45-41c8-84eb-4e9ccd065e9d"
      },
      "execution_count": null,
      "outputs": [
        {
          "output_type": "stream",
          "name": "stderr",
          "text": [
            "/usr/local/lib/python3.7/dist-packages/ipykernel_launcher.py:3: FutureWarning: In a future version of pandas all arguments of DataFrame.drop except for the argument 'labels' will be keyword-only\n",
            "  This is separate from the ipykernel package so we can avoid doing imports until\n",
            "INFO:fbprophet:Disabling yearly seasonality. Run prophet with yearly_seasonality=True to override this.\n",
            "INFO:fbprophet:Disabling daily seasonality. Run prophet with daily_seasonality=True to override this.\n",
            "INFO:fbprophet:Disabling yearly seasonality. Run prophet with yearly_seasonality=True to override this.\n",
            "INFO:fbprophet:Disabling daily seasonality. Run prophet with daily_seasonality=True to override this.\n",
            "INFO:fbprophet:Disabling yearly seasonality. Run prophet with yearly_seasonality=True to override this.\n",
            "INFO:fbprophet:Disabling daily seasonality. Run prophet with daily_seasonality=True to override this.\n",
            "INFO:fbprophet:Disabling yearly seasonality. Run prophet with yearly_seasonality=True to override this.\n",
            "INFO:fbprophet:Disabling daily seasonality. Run prophet with daily_seasonality=True to override this.\n"
          ]
        }
      ]
    },
    {
      "cell_type": "code",
      "source": [
        "#Merging\n",
        "df_prophet = pd.merge(df_test,df_scaling,how='left',on=\"Division_ID\")\n",
        "df_prophet[\"Item_Forecast_Prophet\"]=df_prophet[\"Prediction_Prophet\"]*df_prophet[\"Division_Scaling_Factor\"]\n",
        "df_prophet=df_prophet[[\"Ship_Date\",\"Division_ID\",\"Item_ID\",\"Item_Forecast_Prophet\"]]\n",
        "df_prophet=pd.merge(df_prophet,df_items[[\"Item_ID\",\"Ship_Date\",\"Ship_Qty\"]],on=[\"Item_ID\",\"Ship_Date\"],how=\"left\")\n",
        "df_prophet=df_prophet[df_prophet[\"Ship_Qty\"]>0]  #remove"
      ],
      "metadata": {
        "id": "oQ4rfV2U4a9F"
      },
      "execution_count": null,
      "outputs": []
    },
    {
      "cell_type": "code",
      "source": [
        "#Results\n",
        "prophet_result2=pd.DataFrame()\n",
        "for item in items:\n",
        "  df=df_prophet[df_prophet[\"Item_ID\"]==item]\n",
        "  actual=df[\"Ship_Qty\"]\n",
        "  predicted=df[\"Item_Forecast_Prophet\"]\n",
        "  mape_prophet= calculate_mape(actual,predicted)\n",
        "  rmse_prophet=calculate_rmse(actual,predicted)\n",
        "  prophet_result=pd.DataFrame({'Method':[\"Prophet\"],\"Item_ID\":[item],'RMSE':[rmse_prophet],'MAPE':[mape_prophet]})\n",
        "  result=pd.concat([result,prophet_result],axis=0)\n",
        "  prophet_result2= pd.concat([prophet_result2,pd.DataFrame({\"Item_ID\":[item],'RMSE_Prophet':[rmse_prophet],'MAPE_Prophet':[mape_prophet]})],axis=0)\n",
        "result2=pd.merge(result2,prophet_result2,on=[\"Item_ID\"],how=\"left\")"
      ],
      "metadata": {
        "id": "_xgEbZ0ylQYZ"
      },
      "execution_count": null,
      "outputs": []
    },
    {
      "cell_type": "code",
      "source": [
        "result=result.groupby([\"Item_ID\",\"Method\"]).agg(\"max\")"
      ],
      "metadata": {
        "id": "g3_IptgzABvV"
      },
      "execution_count": null,
      "outputs": []
    },
    {
      "cell_type": "code",
      "source": [
        "result2"
      ],
      "metadata": {
        "id": "-JRahXByBJHH",
        "colab": {
          "base_uri": "https://localhost:8080/",
          "height": 677
        },
        "outputId": "b5e989df-d535-4e28-a9e1-da08b8ab9d90"
      },
      "execution_count": null,
      "outputs": [
        {
          "output_type": "execute_result",
          "data": {
            "text/plain": [
              "    Item_ID  RMSE_Holt  MAPE_Holt  RMSE_SARIMA  MAPE_SARIMA  RMSE_Prophet  \\\n",
              "0   1267128    1211.11       7.67      3793.11        22.75       2127.59   \n",
              "1   1267133    2322.05      27.65      3070.42        30.45       1796.50   \n",
              "2   1267261   52661.52      87.64      9617.78        14.72       7750.51   \n",
              "3   1267319   35619.89      88.11      4897.54        11.30       3828.51   \n",
              "4   1267375    1792.88      19.19      2877.59        31.50       2427.11   \n",
              "5   1267504   35364.86      84.73     12472.65        33.11       7222.12   \n",
              "6   1267746   81715.14      85.59     29815.81        33.90      14989.16   \n",
              "7   1267908     901.46       7.80      2572.62        22.62       1826.45   \n",
              "8   1268762    4083.68      96.74      5076.85       120.41       2654.93   \n",
              "9   1269237     230.43      16.62       327.60        22.28        446.10   \n",
              "10  1269265     275.13      18.48       238.69        16.00        244.07   \n",
              "11  1269461    4425.67      41.03      5301.01        46.73       4662.58   \n",
              "12  1269603   32698.24      85.77      9098.36        23.99       4335.43   \n",
              "13  1269685    5782.30      59.71      7233.85        73.17       4246.52   \n",
              "14  1269810    5332.87      36.02      6591.24        51.68       5778.57   \n",
              "15  1269903    1060.99      92.35      1101.82        87.86       1061.16   \n",
              "16  1269987     360.76      28.72       318.52        23.60        396.72   \n",
              "17  1270349    1854.48      26.66      2542.18        33.89       1276.87   \n",
              "18  1270707    5954.87      47.52      6699.90        60.60       6808.40   \n",
              "19  1270709     537.84      43.00       525.74        37.97        312.69   \n",
              "\n",
              "    MAPE_Prophet  \n",
              "0          11.88  \n",
              "1          17.95  \n",
              "2          10.99  \n",
              "3           7.65  \n",
              "4          21.16  \n",
              "5          18.36  \n",
              "6          17.84  \n",
              "7          14.04  \n",
              "8          60.03  \n",
              "9          26.51  \n",
              "10         13.14  \n",
              "11         40.44  \n",
              "12         10.30  \n",
              "13         41.65  \n",
              "14         26.04  \n",
              "15         76.90  \n",
              "16         21.78  \n",
              "17         18.73  \n",
              "18         43.20  \n",
              "19         24.05  "
            ],
            "text/html": [
              "\n",
              "  <div id=\"df-a109d43f-8043-4263-b462-cd417aa10301\">\n",
              "    <div class=\"colab-df-container\">\n",
              "      <div>\n",
              "<style scoped>\n",
              "    .dataframe tbody tr th:only-of-type {\n",
              "        vertical-align: middle;\n",
              "    }\n",
              "\n",
              "    .dataframe tbody tr th {\n",
              "        vertical-align: top;\n",
              "    }\n",
              "\n",
              "    .dataframe thead th {\n",
              "        text-align: right;\n",
              "    }\n",
              "</style>\n",
              "<table border=\"1\" class=\"dataframe\">\n",
              "  <thead>\n",
              "    <tr style=\"text-align: right;\">\n",
              "      <th></th>\n",
              "      <th>Item_ID</th>\n",
              "      <th>RMSE_Holt</th>\n",
              "      <th>MAPE_Holt</th>\n",
              "      <th>RMSE_SARIMA</th>\n",
              "      <th>MAPE_SARIMA</th>\n",
              "      <th>RMSE_Prophet</th>\n",
              "      <th>MAPE_Prophet</th>\n",
              "    </tr>\n",
              "  </thead>\n",
              "  <tbody>\n",
              "    <tr>\n",
              "      <th>0</th>\n",
              "      <td>1267128</td>\n",
              "      <td>1211.11</td>\n",
              "      <td>7.67</td>\n",
              "      <td>3793.11</td>\n",
              "      <td>22.75</td>\n",
              "      <td>2127.59</td>\n",
              "      <td>11.88</td>\n",
              "    </tr>\n",
              "    <tr>\n",
              "      <th>1</th>\n",
              "      <td>1267133</td>\n",
              "      <td>2322.05</td>\n",
              "      <td>27.65</td>\n",
              "      <td>3070.42</td>\n",
              "      <td>30.45</td>\n",
              "      <td>1796.50</td>\n",
              "      <td>17.95</td>\n",
              "    </tr>\n",
              "    <tr>\n",
              "      <th>2</th>\n",
              "      <td>1267261</td>\n",
              "      <td>52661.52</td>\n",
              "      <td>87.64</td>\n",
              "      <td>9617.78</td>\n",
              "      <td>14.72</td>\n",
              "      <td>7750.51</td>\n",
              "      <td>10.99</td>\n",
              "    </tr>\n",
              "    <tr>\n",
              "      <th>3</th>\n",
              "      <td>1267319</td>\n",
              "      <td>35619.89</td>\n",
              "      <td>88.11</td>\n",
              "      <td>4897.54</td>\n",
              "      <td>11.30</td>\n",
              "      <td>3828.51</td>\n",
              "      <td>7.65</td>\n",
              "    </tr>\n",
              "    <tr>\n",
              "      <th>4</th>\n",
              "      <td>1267375</td>\n",
              "      <td>1792.88</td>\n",
              "      <td>19.19</td>\n",
              "      <td>2877.59</td>\n",
              "      <td>31.50</td>\n",
              "      <td>2427.11</td>\n",
              "      <td>21.16</td>\n",
              "    </tr>\n",
              "    <tr>\n",
              "      <th>5</th>\n",
              "      <td>1267504</td>\n",
              "      <td>35364.86</td>\n",
              "      <td>84.73</td>\n",
              "      <td>12472.65</td>\n",
              "      <td>33.11</td>\n",
              "      <td>7222.12</td>\n",
              "      <td>18.36</td>\n",
              "    </tr>\n",
              "    <tr>\n",
              "      <th>6</th>\n",
              "      <td>1267746</td>\n",
              "      <td>81715.14</td>\n",
              "      <td>85.59</td>\n",
              "      <td>29815.81</td>\n",
              "      <td>33.90</td>\n",
              "      <td>14989.16</td>\n",
              "      <td>17.84</td>\n",
              "    </tr>\n",
              "    <tr>\n",
              "      <th>7</th>\n",
              "      <td>1267908</td>\n",
              "      <td>901.46</td>\n",
              "      <td>7.80</td>\n",
              "      <td>2572.62</td>\n",
              "      <td>22.62</td>\n",
              "      <td>1826.45</td>\n",
              "      <td>14.04</td>\n",
              "    </tr>\n",
              "    <tr>\n",
              "      <th>8</th>\n",
              "      <td>1268762</td>\n",
              "      <td>4083.68</td>\n",
              "      <td>96.74</td>\n",
              "      <td>5076.85</td>\n",
              "      <td>120.41</td>\n",
              "      <td>2654.93</td>\n",
              "      <td>60.03</td>\n",
              "    </tr>\n",
              "    <tr>\n",
              "      <th>9</th>\n",
              "      <td>1269237</td>\n",
              "      <td>230.43</td>\n",
              "      <td>16.62</td>\n",
              "      <td>327.60</td>\n",
              "      <td>22.28</td>\n",
              "      <td>446.10</td>\n",
              "      <td>26.51</td>\n",
              "    </tr>\n",
              "    <tr>\n",
              "      <th>10</th>\n",
              "      <td>1269265</td>\n",
              "      <td>275.13</td>\n",
              "      <td>18.48</td>\n",
              "      <td>238.69</td>\n",
              "      <td>16.00</td>\n",
              "      <td>244.07</td>\n",
              "      <td>13.14</td>\n",
              "    </tr>\n",
              "    <tr>\n",
              "      <th>11</th>\n",
              "      <td>1269461</td>\n",
              "      <td>4425.67</td>\n",
              "      <td>41.03</td>\n",
              "      <td>5301.01</td>\n",
              "      <td>46.73</td>\n",
              "      <td>4662.58</td>\n",
              "      <td>40.44</td>\n",
              "    </tr>\n",
              "    <tr>\n",
              "      <th>12</th>\n",
              "      <td>1269603</td>\n",
              "      <td>32698.24</td>\n",
              "      <td>85.77</td>\n",
              "      <td>9098.36</td>\n",
              "      <td>23.99</td>\n",
              "      <td>4335.43</td>\n",
              "      <td>10.30</td>\n",
              "    </tr>\n",
              "    <tr>\n",
              "      <th>13</th>\n",
              "      <td>1269685</td>\n",
              "      <td>5782.30</td>\n",
              "      <td>59.71</td>\n",
              "      <td>7233.85</td>\n",
              "      <td>73.17</td>\n",
              "      <td>4246.52</td>\n",
              "      <td>41.65</td>\n",
              "    </tr>\n",
              "    <tr>\n",
              "      <th>14</th>\n",
              "      <td>1269810</td>\n",
              "      <td>5332.87</td>\n",
              "      <td>36.02</td>\n",
              "      <td>6591.24</td>\n",
              "      <td>51.68</td>\n",
              "      <td>5778.57</td>\n",
              "      <td>26.04</td>\n",
              "    </tr>\n",
              "    <tr>\n",
              "      <th>15</th>\n",
              "      <td>1269903</td>\n",
              "      <td>1060.99</td>\n",
              "      <td>92.35</td>\n",
              "      <td>1101.82</td>\n",
              "      <td>87.86</td>\n",
              "      <td>1061.16</td>\n",
              "      <td>76.90</td>\n",
              "    </tr>\n",
              "    <tr>\n",
              "      <th>16</th>\n",
              "      <td>1269987</td>\n",
              "      <td>360.76</td>\n",
              "      <td>28.72</td>\n",
              "      <td>318.52</td>\n",
              "      <td>23.60</td>\n",
              "      <td>396.72</td>\n",
              "      <td>21.78</td>\n",
              "    </tr>\n",
              "    <tr>\n",
              "      <th>17</th>\n",
              "      <td>1270349</td>\n",
              "      <td>1854.48</td>\n",
              "      <td>26.66</td>\n",
              "      <td>2542.18</td>\n",
              "      <td>33.89</td>\n",
              "      <td>1276.87</td>\n",
              "      <td>18.73</td>\n",
              "    </tr>\n",
              "    <tr>\n",
              "      <th>18</th>\n",
              "      <td>1270707</td>\n",
              "      <td>5954.87</td>\n",
              "      <td>47.52</td>\n",
              "      <td>6699.90</td>\n",
              "      <td>60.60</td>\n",
              "      <td>6808.40</td>\n",
              "      <td>43.20</td>\n",
              "    </tr>\n",
              "    <tr>\n",
              "      <th>19</th>\n",
              "      <td>1270709</td>\n",
              "      <td>537.84</td>\n",
              "      <td>43.00</td>\n",
              "      <td>525.74</td>\n",
              "      <td>37.97</td>\n",
              "      <td>312.69</td>\n",
              "      <td>24.05</td>\n",
              "    </tr>\n",
              "  </tbody>\n",
              "</table>\n",
              "</div>\n",
              "      <button class=\"colab-df-convert\" onclick=\"convertToInteractive('df-a109d43f-8043-4263-b462-cd417aa10301')\"\n",
              "              title=\"Convert this dataframe to an interactive table.\"\n",
              "              style=\"display:none;\">\n",
              "        \n",
              "  <svg xmlns=\"http://www.w3.org/2000/svg\" height=\"24px\"viewBox=\"0 0 24 24\"\n",
              "       width=\"24px\">\n",
              "    <path d=\"M0 0h24v24H0V0z\" fill=\"none\"/>\n",
              "    <path d=\"M18.56 5.44l.94 2.06.94-2.06 2.06-.94-2.06-.94-.94-2.06-.94 2.06-2.06.94zm-11 1L8.5 8.5l.94-2.06 2.06-.94-2.06-.94L8.5 2.5l-.94 2.06-2.06.94zm10 10l.94 2.06.94-2.06 2.06-.94-2.06-.94-.94-2.06-.94 2.06-2.06.94z\"/><path d=\"M17.41 7.96l-1.37-1.37c-.4-.4-.92-.59-1.43-.59-.52 0-1.04.2-1.43.59L10.3 9.45l-7.72 7.72c-.78.78-.78 2.05 0 2.83L4 21.41c.39.39.9.59 1.41.59.51 0 1.02-.2 1.41-.59l7.78-7.78 2.81-2.81c.8-.78.8-2.07 0-2.86zM5.41 20L4 18.59l7.72-7.72 1.47 1.35L5.41 20z\"/>\n",
              "  </svg>\n",
              "      </button>\n",
              "      \n",
              "  <style>\n",
              "    .colab-df-container {\n",
              "      display:flex;\n",
              "      flex-wrap:wrap;\n",
              "      gap: 12px;\n",
              "    }\n",
              "\n",
              "    .colab-df-convert {\n",
              "      background-color: #E8F0FE;\n",
              "      border: none;\n",
              "      border-radius: 50%;\n",
              "      cursor: pointer;\n",
              "      display: none;\n",
              "      fill: #1967D2;\n",
              "      height: 32px;\n",
              "      padding: 0 0 0 0;\n",
              "      width: 32px;\n",
              "    }\n",
              "\n",
              "    .colab-df-convert:hover {\n",
              "      background-color: #E2EBFA;\n",
              "      box-shadow: 0px 1px 2px rgba(60, 64, 67, 0.3), 0px 1px 3px 1px rgba(60, 64, 67, 0.15);\n",
              "      fill: #174EA6;\n",
              "    }\n",
              "\n",
              "    [theme=dark] .colab-df-convert {\n",
              "      background-color: #3B4455;\n",
              "      fill: #D2E3FC;\n",
              "    }\n",
              "\n",
              "    [theme=dark] .colab-df-convert:hover {\n",
              "      background-color: #434B5C;\n",
              "      box-shadow: 0px 1px 3px 1px rgba(0, 0, 0, 0.15);\n",
              "      filter: drop-shadow(0px 1px 2px rgba(0, 0, 0, 0.3));\n",
              "      fill: #FFFFFF;\n",
              "    }\n",
              "  </style>\n",
              "\n",
              "      <script>\n",
              "        const buttonEl =\n",
              "          document.querySelector('#df-a109d43f-8043-4263-b462-cd417aa10301 button.colab-df-convert');\n",
              "        buttonEl.style.display =\n",
              "          google.colab.kernel.accessAllowed ? 'block' : 'none';\n",
              "\n",
              "        async function convertToInteractive(key) {\n",
              "          const element = document.querySelector('#df-a109d43f-8043-4263-b462-cd417aa10301');\n",
              "          const dataTable =\n",
              "            await google.colab.kernel.invokeFunction('convertToInteractive',\n",
              "                                                     [key], {});\n",
              "          if (!dataTable) return;\n",
              "\n",
              "          const docLinkHtml = 'Like what you see? Visit the ' +\n",
              "            '<a target=\"_blank\" href=https://colab.research.google.com/notebooks/data_table.ipynb>data table notebook</a>'\n",
              "            + ' to learn more about interactive tables.';\n",
              "          element.innerHTML = '';\n",
              "          dataTable['output_type'] = 'display_data';\n",
              "          await google.colab.output.renderOutput(dataTable, element);\n",
              "          const docLink = document.createElement('div');\n",
              "          docLink.innerHTML = docLinkHtml;\n",
              "          element.appendChild(docLink);\n",
              "        }\n",
              "      </script>\n",
              "    </div>\n",
              "  </div>\n",
              "  "
            ]
          },
          "metadata": {},
          "execution_count": 37
        }
      ]
    },
    {
      "cell_type": "code",
      "source": [
        "df_result_division=pd.DataFrame()\n",
        "for i in range(len(result2)):\n",
        "  df_result_division.loc[i,\"Item_ID\"]=result2.loc[i,\"Item_ID\"]\n",
        "  df_result_division.loc[i,\"MAPE\"]= min(result2.loc[i,\"MAPE_Holt\"],result2.loc[i,\"MAPE_SARIMA\"],result2.loc[i,\"MAPE_Prophet\"])\n",
        "\n"
      ],
      "metadata": {
        "id": "OTQE_TQebwmu"
      },
      "execution_count": null,
      "outputs": []
    },
    {
      "cell_type": "code",
      "source": [
        ""
      ],
      "metadata": {
        "id": "WnPgAJjffb4y"
      },
      "execution_count": null,
      "outputs": []
    },
    {
      "cell_type": "code",
      "source": [
        "df_result_division"
      ],
      "metadata": {
        "colab": {
          "base_uri": "https://localhost:8080/",
          "height": 677
        },
        "id": "hDONgZmDfCbi",
        "outputId": "afb585f9-6ab9-4da9-fb47-4e4bdfcb22b5"
      },
      "execution_count": null,
      "outputs": [
        {
          "output_type": "execute_result",
          "data": {
            "text/plain": [
              "      Item_ID   MAPE\n",
              "0   1267128.0   7.67\n",
              "1   1267133.0  17.95\n",
              "2   1267261.0  10.99\n",
              "3   1267319.0   7.65\n",
              "4   1267375.0  19.19\n",
              "5   1267504.0  18.36\n",
              "6   1267746.0  17.84\n",
              "7   1267908.0   7.80\n",
              "8   1268762.0  60.03\n",
              "9   1269237.0  16.62\n",
              "10  1269265.0  13.14\n",
              "11  1269461.0  40.44\n",
              "12  1269603.0  10.30\n",
              "13  1269685.0  41.65\n",
              "14  1269810.0  26.04\n",
              "15  1269903.0  76.90\n",
              "16  1269987.0  21.78\n",
              "17  1270349.0  18.73\n",
              "18  1270707.0  43.20\n",
              "19  1270709.0  24.05"
            ],
            "text/html": [
              "\n",
              "  <div id=\"df-6231d84c-5774-4110-a36e-b492c09f3b0e\">\n",
              "    <div class=\"colab-df-container\">\n",
              "      <div>\n",
              "<style scoped>\n",
              "    .dataframe tbody tr th:only-of-type {\n",
              "        vertical-align: middle;\n",
              "    }\n",
              "\n",
              "    .dataframe tbody tr th {\n",
              "        vertical-align: top;\n",
              "    }\n",
              "\n",
              "    .dataframe thead th {\n",
              "        text-align: right;\n",
              "    }\n",
              "</style>\n",
              "<table border=\"1\" class=\"dataframe\">\n",
              "  <thead>\n",
              "    <tr style=\"text-align: right;\">\n",
              "      <th></th>\n",
              "      <th>Item_ID</th>\n",
              "      <th>MAPE</th>\n",
              "    </tr>\n",
              "  </thead>\n",
              "  <tbody>\n",
              "    <tr>\n",
              "      <th>0</th>\n",
              "      <td>1267128.0</td>\n",
              "      <td>7.67</td>\n",
              "    </tr>\n",
              "    <tr>\n",
              "      <th>1</th>\n",
              "      <td>1267133.0</td>\n",
              "      <td>17.95</td>\n",
              "    </tr>\n",
              "    <tr>\n",
              "      <th>2</th>\n",
              "      <td>1267261.0</td>\n",
              "      <td>10.99</td>\n",
              "    </tr>\n",
              "    <tr>\n",
              "      <th>3</th>\n",
              "      <td>1267319.0</td>\n",
              "      <td>7.65</td>\n",
              "    </tr>\n",
              "    <tr>\n",
              "      <th>4</th>\n",
              "      <td>1267375.0</td>\n",
              "      <td>19.19</td>\n",
              "    </tr>\n",
              "    <tr>\n",
              "      <th>5</th>\n",
              "      <td>1267504.0</td>\n",
              "      <td>18.36</td>\n",
              "    </tr>\n",
              "    <tr>\n",
              "      <th>6</th>\n",
              "      <td>1267746.0</td>\n",
              "      <td>17.84</td>\n",
              "    </tr>\n",
              "    <tr>\n",
              "      <th>7</th>\n",
              "      <td>1267908.0</td>\n",
              "      <td>7.80</td>\n",
              "    </tr>\n",
              "    <tr>\n",
              "      <th>8</th>\n",
              "      <td>1268762.0</td>\n",
              "      <td>60.03</td>\n",
              "    </tr>\n",
              "    <tr>\n",
              "      <th>9</th>\n",
              "      <td>1269237.0</td>\n",
              "      <td>16.62</td>\n",
              "    </tr>\n",
              "    <tr>\n",
              "      <th>10</th>\n",
              "      <td>1269265.0</td>\n",
              "      <td>13.14</td>\n",
              "    </tr>\n",
              "    <tr>\n",
              "      <th>11</th>\n",
              "      <td>1269461.0</td>\n",
              "      <td>40.44</td>\n",
              "    </tr>\n",
              "    <tr>\n",
              "      <th>12</th>\n",
              "      <td>1269603.0</td>\n",
              "      <td>10.30</td>\n",
              "    </tr>\n",
              "    <tr>\n",
              "      <th>13</th>\n",
              "      <td>1269685.0</td>\n",
              "      <td>41.65</td>\n",
              "    </tr>\n",
              "    <tr>\n",
              "      <th>14</th>\n",
              "      <td>1269810.0</td>\n",
              "      <td>26.04</td>\n",
              "    </tr>\n",
              "    <tr>\n",
              "      <th>15</th>\n",
              "      <td>1269903.0</td>\n",
              "      <td>76.90</td>\n",
              "    </tr>\n",
              "    <tr>\n",
              "      <th>16</th>\n",
              "      <td>1269987.0</td>\n",
              "      <td>21.78</td>\n",
              "    </tr>\n",
              "    <tr>\n",
              "      <th>17</th>\n",
              "      <td>1270349.0</td>\n",
              "      <td>18.73</td>\n",
              "    </tr>\n",
              "    <tr>\n",
              "      <th>18</th>\n",
              "      <td>1270707.0</td>\n",
              "      <td>43.20</td>\n",
              "    </tr>\n",
              "    <tr>\n",
              "      <th>19</th>\n",
              "      <td>1270709.0</td>\n",
              "      <td>24.05</td>\n",
              "    </tr>\n",
              "  </tbody>\n",
              "</table>\n",
              "</div>\n",
              "      <button class=\"colab-df-convert\" onclick=\"convertToInteractive('df-6231d84c-5774-4110-a36e-b492c09f3b0e')\"\n",
              "              title=\"Convert this dataframe to an interactive table.\"\n",
              "              style=\"display:none;\">\n",
              "        \n",
              "  <svg xmlns=\"http://www.w3.org/2000/svg\" height=\"24px\"viewBox=\"0 0 24 24\"\n",
              "       width=\"24px\">\n",
              "    <path d=\"M0 0h24v24H0V0z\" fill=\"none\"/>\n",
              "    <path d=\"M18.56 5.44l.94 2.06.94-2.06 2.06-.94-2.06-.94-.94-2.06-.94 2.06-2.06.94zm-11 1L8.5 8.5l.94-2.06 2.06-.94-2.06-.94L8.5 2.5l-.94 2.06-2.06.94zm10 10l.94 2.06.94-2.06 2.06-.94-2.06-.94-.94-2.06-.94 2.06-2.06.94z\"/><path d=\"M17.41 7.96l-1.37-1.37c-.4-.4-.92-.59-1.43-.59-.52 0-1.04.2-1.43.59L10.3 9.45l-7.72 7.72c-.78.78-.78 2.05 0 2.83L4 21.41c.39.39.9.59 1.41.59.51 0 1.02-.2 1.41-.59l7.78-7.78 2.81-2.81c.8-.78.8-2.07 0-2.86zM5.41 20L4 18.59l7.72-7.72 1.47 1.35L5.41 20z\"/>\n",
              "  </svg>\n",
              "      </button>\n",
              "      \n",
              "  <style>\n",
              "    .colab-df-container {\n",
              "      display:flex;\n",
              "      flex-wrap:wrap;\n",
              "      gap: 12px;\n",
              "    }\n",
              "\n",
              "    .colab-df-convert {\n",
              "      background-color: #E8F0FE;\n",
              "      border: none;\n",
              "      border-radius: 50%;\n",
              "      cursor: pointer;\n",
              "      display: none;\n",
              "      fill: #1967D2;\n",
              "      height: 32px;\n",
              "      padding: 0 0 0 0;\n",
              "      width: 32px;\n",
              "    }\n",
              "\n",
              "    .colab-df-convert:hover {\n",
              "      background-color: #E2EBFA;\n",
              "      box-shadow: 0px 1px 2px rgba(60, 64, 67, 0.3), 0px 1px 3px 1px rgba(60, 64, 67, 0.15);\n",
              "      fill: #174EA6;\n",
              "    }\n",
              "\n",
              "    [theme=dark] .colab-df-convert {\n",
              "      background-color: #3B4455;\n",
              "      fill: #D2E3FC;\n",
              "    }\n",
              "\n",
              "    [theme=dark] .colab-df-convert:hover {\n",
              "      background-color: #434B5C;\n",
              "      box-shadow: 0px 1px 3px 1px rgba(0, 0, 0, 0.15);\n",
              "      filter: drop-shadow(0px 1px 2px rgba(0, 0, 0, 0.3));\n",
              "      fill: #FFFFFF;\n",
              "    }\n",
              "  </style>\n",
              "\n",
              "      <script>\n",
              "        const buttonEl =\n",
              "          document.querySelector('#df-6231d84c-5774-4110-a36e-b492c09f3b0e button.colab-df-convert');\n",
              "        buttonEl.style.display =\n",
              "          google.colab.kernel.accessAllowed ? 'block' : 'none';\n",
              "\n",
              "        async function convertToInteractive(key) {\n",
              "          const element = document.querySelector('#df-6231d84c-5774-4110-a36e-b492c09f3b0e');\n",
              "          const dataTable =\n",
              "            await google.colab.kernel.invokeFunction('convertToInteractive',\n",
              "                                                     [key], {});\n",
              "          if (!dataTable) return;\n",
              "\n",
              "          const docLinkHtml = 'Like what you see? Visit the ' +\n",
              "            '<a target=\"_blank\" href=https://colab.research.google.com/notebooks/data_table.ipynb>data table notebook</a>'\n",
              "            + ' to learn more about interactive tables.';\n",
              "          element.innerHTML = '';\n",
              "          dataTable['output_type'] = 'display_data';\n",
              "          await google.colab.output.renderOutput(dataTable, element);\n",
              "          const docLink = document.createElement('div');\n",
              "          docLink.innerHTML = docLinkHtml;\n",
              "          element.appendChild(docLink);\n",
              "        }\n",
              "      </script>\n",
              "    </div>\n",
              "  </div>\n",
              "  "
            ]
          },
          "metadata": {},
          "execution_count": 43
        }
      ]
    },
    {
      "cell_type": "markdown",
      "source": [
        "###**Cluster Level**"
      ],
      "metadata": {
        "id": "UO5bJbv0_bWx"
      }
    },
    {
      "cell_type": "markdown",
      "source": [
        "#Holt Winter Cluster"
      ],
      "metadata": {
        "id": "NUgmW0VePRSH"
      }
    },
    {
      "cell_type": "code",
      "source": [
        "#Train-Test DataSet: 80% training 20% testing\n",
        "training_cluster_dataset=df_cluster[df_cluster[\"Ship_Date\"]<datetime.datetime(2019,11,1)]\n",
        "testing_cluster_dataset=df_cluster[df_cluster[\"Ship_Date\"]>=datetime.datetime(2019,11,1)]\n",
        "\n",
        "#x_train= training_dataset[[\"Division\",\"Ship_Date\"]]\n",
        "training_cluster_dataset=training_cluster_dataset.set_index(\"Ship_Date\")\n",
        "testing_cluster_dataset=testing_cluster_dataset.set_index(\"Ship_Date\")\n",
        "y_train=training_cluster_dataset[\"Ship_Qty\"]\n",
        "\n",
        "#x_test= testing_dataset[[\"Division\",\"Ship_Date\"]]\n",
        "y_test=testing_cluster_dataset[\"Ship_Qty\"]\n",
        "\n",
        "#Forecasting\n",
        "operation=\"add\"\n",
        "df_test=pd.DataFrame()\n",
        "#df_holt=pd.DataFrame(columns=[\"Ship_Date\",\"Division\",\"Ship_Qty\",\"Prediction\"])\n",
        "for cluster in clusters:\n",
        "  training_dataset=training_cluster_dataset[training_cluster_dataset[\"Cluster_ID\"]==cluster].reset_index()\n",
        "  testing_dataset=testing_cluster_dataset[testing_cluster_dataset[\"Cluster_ID\"]==cluster].reset_index()\n",
        "  training_dataset,testing_dataset=Holt_Winter_Forecasting(training_dataset,testing_dataset,operation)\n",
        "  df_test=df_test.append(testing_dataset)\n",
        "\n",
        "#Plotting\n",
        "df_test=df_test.set_index(\"Ship_Date\")\n",
        "plot_title=\"Holt_Winter_Forecast\" + \"_\" + operation\n",
        "y_train.plot(legend=True,label='TRAIN')\n",
        "y_test.plot(legend=True,label='TEST',figsize=(6,4))\n",
        "df_test[\"Prediction_Holt\"].plot(legend=True,label='PREDICTION')\n",
        "plt.title(plot_title)\n",
        "   \n",
        "#Merging\n",
        "df_test=df_test.reset_index()\n",
        "df_holt = pd.merge(df_test,df_scaling_cluster,how='left',on=\"Cluster_ID\")\n",
        "df_holt[\"Item_forecast_Holt\"]=df_holt[\"Prediction_Holt\"]*df_holt[\"Cluster_Scaling_Factor\"]\n",
        "df_holt=df_holt[[\"Ship_Date\",\"Cluster_ID\",\"Item_ID\",\"Item_forecast_Holt\"]]\n",
        "df_holt=pd.merge(df_holt,df_items[[\"Item_ID\",\"Ship_Date\",\"Ship_Qty\"]],on=[\"Item_ID\",\"Ship_Date\"],how=\"left\")\n",
        "df_holt=df_holt[df_holt[\"Ship_Qty\"]>0]\n",
        "\n",
        "\n",
        "#Results\n",
        "items=list(df_items[\"Item_ID\"].unique())\n",
        "result_cluster=pd.DataFrame()\n",
        "result_cluster2=pd.DataFrame()\n",
        "for item in items:\n",
        "  df=df_holt[df_holt[\"Item_ID\"]==item]\n",
        "  actual=df[\"Ship_Qty\"]\n",
        "  predicted=df[\"Item_forecast_Holt\"]\n",
        "  mape_holt= calculate_mape(actual,predicted)\n",
        "  rmse_holt=calculate_rmse(actual,predicted)\n",
        "  holt_result=pd.DataFrame({'Method':[\"Holt Winter\"],\"Item_ID\":[item],'RMSE':[rmse_holt],'MAPE':[mape_holt]})\n",
        "  result_cluster=pd.concat([result_cluster,holt_result],axis=0)\n",
        "  holt_result2= pd.DataFrame({\"Item_ID\":[item],'RMSE_Holt':[rmse_holt],'MAPE_Holt':[mape_holt]})\n",
        "  result_cluster2=pd.concat([result_cluster2,holt_result2],axis=0)"
      ],
      "metadata": {
        "colab": {
          "base_uri": "https://localhost:8080/",
          "height": 745
        },
        "id": "dt29tjhZJX-9",
        "outputId": "3cac764d-33e8-4084-b919-a4ad713c0e74"
      },
      "execution_count": null,
      "outputs": [
        {
          "output_type": "stream",
          "name": "stderr",
          "text": [
            "/usr/local/lib/python3.7/dist-packages/statsmodels/tsa/base/tsa_model.py:219: ValueWarning: A date index has been provided, but it has no associated frequency information and so will be ignored when e.g. forecasting.\n",
            "  ' ignored when e.g. forecasting.', ValueWarning)\n",
            "/usr/local/lib/python3.7/dist-packages/statsmodels/tsa/base/tsa_model.py:576: ValueWarning: No supported index is available. Prediction results will be given with an integer index beginning at `start`.\n",
            "  ValueWarning)\n",
            "/usr/local/lib/python3.7/dist-packages/statsmodels/tsa/base/tsa_model.py:576: ValueWarning: No supported index is available. Prediction results will be given with an integer index beginning at `start`.\n",
            "  ValueWarning)\n",
            "/usr/local/lib/python3.7/dist-packages/statsmodels/tsa/base/tsa_model.py:219: ValueWarning: A date index has been provided, but it has no associated frequency information and so will be ignored when e.g. forecasting.\n",
            "  ' ignored when e.g. forecasting.', ValueWarning)\n",
            "/usr/local/lib/python3.7/dist-packages/statsmodels/tsa/base/tsa_model.py:576: ValueWarning: No supported index is available. Prediction results will be given with an integer index beginning at `start`.\n",
            "  ValueWarning)\n",
            "/usr/local/lib/python3.7/dist-packages/statsmodels/tsa/base/tsa_model.py:576: ValueWarning: No supported index is available. Prediction results will be given with an integer index beginning at `start`.\n",
            "  ValueWarning)\n",
            "/usr/local/lib/python3.7/dist-packages/statsmodels/tsa/base/tsa_model.py:219: ValueWarning: A date index has been provided, but it has no associated frequency information and so will be ignored when e.g. forecasting.\n",
            "  ' ignored when e.g. forecasting.', ValueWarning)\n",
            "/usr/local/lib/python3.7/dist-packages/statsmodels/tsa/base/tsa_model.py:576: ValueWarning: No supported index is available. Prediction results will be given with an integer index beginning at `start`.\n",
            "  ValueWarning)\n",
            "/usr/local/lib/python3.7/dist-packages/statsmodels/tsa/base/tsa_model.py:576: ValueWarning: No supported index is available. Prediction results will be given with an integer index beginning at `start`.\n",
            "  ValueWarning)\n",
            "/usr/local/lib/python3.7/dist-packages/statsmodels/tsa/base/tsa_model.py:219: ValueWarning: A date index has been provided, but it has no associated frequency information and so will be ignored when e.g. forecasting.\n",
            "  ' ignored when e.g. forecasting.', ValueWarning)\n",
            "/usr/local/lib/python3.7/dist-packages/statsmodels/tsa/holtwinters.py:712: ConvergenceWarning: Optimization failed to converge. Check mle_retvals.\n",
            "  ConvergenceWarning)\n",
            "/usr/local/lib/python3.7/dist-packages/statsmodels/tsa/base/tsa_model.py:576: ValueWarning: No supported index is available. Prediction results will be given with an integer index beginning at `start`.\n",
            "  ValueWarning)\n",
            "/usr/local/lib/python3.7/dist-packages/statsmodels/tsa/base/tsa_model.py:576: ValueWarning: No supported index is available. Prediction results will be given with an integer index beginning at `start`.\n",
            "  ValueWarning)\n"
          ]
        },
        {
          "output_type": "display_data",
          "data": {
            "text/plain": [
              "<Figure size 432x288 with 1 Axes>"
            ],
            "image/png": "[encoded data removed]"
          },
          "metadata": {
            "needs_background": "light"
          }
        }
      ]
    },
    {
      "cell_type": "markdown",
      "source": [
        "#Sarima CLuster\n"
      ],
      "metadata": {
        "id": "1piS6tfFPn8I"
      }
    },
    {
      "cell_type": "code",
      "source": [
        "attribute_cluster_dict={0:[[1,1,0],[3,2,1,8]],1:[[0,1,2],[3,2,1,8]],2:[[1,1,0],[3,2,1,8]],3:[[0,1,2],[3,2,1,8]]}"
      ],
      "metadata": {
        "id": "-h4LMJm_RMbs"
      },
      "execution_count": null,
      "outputs": []
    },
    {
      "cell_type": "code",
      "source": [
        "df_test=pd.DataFrame()\n",
        "for cluster in clusters:\n",
        "  order=(1,1,0)\n",
        "  seasonal_order=(3,2,1,8)\n",
        "  training_dataset=training_cluster_dataset[training_cluster_dataset[\"Cluster_ID\"]==cluster].reset_index()\n",
        "  testing_dataset=testing_cluster_dataset[testing_cluster_dataset[\"Cluster_ID\"]==cluster].reset_index()\n",
        "  testing_dataset=SARIMAX_Forecasting(training_dataset,testing_dataset,order,seasonal_order)\n",
        "  df_test=df_test.append(testing_dataset)"
      ],
      "metadata": {
        "colab": {
          "base_uri": "https://localhost:8080/"
        },
        "id": "HyGAHU8OPsaV",
        "outputId": "8c4b4cf4-c0c5-4293-f15c-d0f7ce3b7f95"
      },
      "execution_count": null,
      "outputs": [
        {
          "output_type": "stream",
          "name": "stderr",
          "text": [
            "/usr/local/lib/python3.7/dist-packages/statsmodels/tsa/statespace/sarimax.py:981: UserWarning: Non-stationary starting seasonal autoregressive Using zeros as starting parameters.\n",
            "  warn('Non-stationary starting seasonal autoregressive'\n",
            "/usr/local/lib/python3.7/dist-packages/ipykernel_launcher.py:5: FutureWarning: In a future version of pandas all arguments of DataFrame.drop except for the argument 'labels' will be keyword-only\n",
            "  \"\"\"\n"
          ]
        }
      ]
    },
    {
      "cell_type": "code",
      "source": [
        "#Merging\n",
        "df_sarima = pd.merge(df_test,df_scaling_cluster,how='left',on=\"Cluster_ID\")\n",
        "df_sarima[\"Item_forecast_Sarima\"]=df_sarima[\"Prediction_Sarima\"]*df_sarima[\"Cluster_Scaling_Factor\"]\n",
        "df_sarima=df_sarima[[\"Ship_Date\",\"Cluster_ID\",\"Item_ID\",\"Item_forecast_Sarima\"]]\n",
        "df_sarima=pd.merge(df_sarima,df_items[[\"Item_ID\",\"Ship_Date\",\"Ship_Qty\"]],on=[\"Item_ID\",\"Ship_Date\"],how=\"left\")\n",
        "df_sarima=df_sarima[df_sarima[\"Ship_Qty\"]>0]\n",
        "#Results\n",
        "sarima_result2=pd.DataFrame()\n",
        "for item in items:\n",
        "  df=df_sarima[df_sarima[\"Item_ID\"]==item]\n",
        "  actual=df[\"Ship_Qty\"]\n",
        "  predicted=df[\"Item_forecast_Sarima\"]\n",
        "  mape_sarima= calculate_mape(actual,predicted)\n",
        "  rmse_sarima=calculate_rmse(actual,predicted)\n",
        "  sarima_result=pd.DataFrame({'Method':[\"SARIMA\"],\"Item_ID\":[item],'RMSE':[rmse_sarima],'MAPE':[mape_sarima]})\n",
        "  result_cluster=pd.concat([result_cluster,sarima_result],axis=0)\n",
        "  sarima_result2= pd.concat([sarima_result2,pd.DataFrame({\"Item_ID\":[item],'RMSE_SARIMA':[rmse_sarima],'MAPE_SARIMA':[mape_sarima]})],axis=0)\n",
        "result_cluster2=pd.merge(result_cluster2,sarima_result2,on=[\"Item_ID\"],how=\"left\")"
      ],
      "metadata": {
        "id": "ru1AImfLQ1Rc"
      },
      "execution_count": null,
      "outputs": []
    },
    {
      "cell_type": "markdown",
      "source": [
        "#Prophet Cluster"
      ],
      "metadata": {
        "id": "Wv_L7WI_UfQr"
      }
    },
    {
      "cell_type": "code",
      "source": [
        "df_test=pd.DataFrame()\n",
        "for cluster in clusters:\n",
        "  training_dataset=training_cluster_dataset[training_cluster_dataset[\"Cluster_ID\"]==cluster].drop(\"Cluster_ID\",1).reset_index()\n",
        "  testing_dataset=testing_cluster_dataset[testing_cluster_dataset[\"Cluster_ID\"]==cluster].reset_index()\n",
        "  testing_dataset=Prophet_Forecasting(training_dataset,testing_dataset)\n",
        "  df_test=df_test.append(testing_dataset)\n",
        "#Merging\n",
        "df_prophet = pd.merge(df_test,df_scaling,how='left',on=\"Cluster_ID\")\n",
        "df_prophet[\"Item_Forecast_Prophet\"]=df_prophet[\"Prediction_Prophet\"]*df_prophet[\"Cluster_Scaling_Factor\"]\n",
        "df_prophet=df_prophet[[\"Ship_Date\",\"Cluster_ID\",\"Item_ID\",\"Item_Forecast_Prophet\"]]\n",
        "df_prophet=pd.merge(df_prophet,df_items[[\"Item_ID\",\"Ship_Date\",\"Ship_Qty\"]],on=[\"Item_ID\",\"Ship_Date\"],how=\"left\")\n",
        "df_prophet=df_prophet[df_prophet[\"Ship_Qty\"]>0]  #remove\n",
        "\n",
        "#Results\n",
        "prophet_result2=pd.DataFrame()\n",
        "for item in items:\n",
        "  df=df_prophet[df_prophet[\"Item_ID\"]==item]\n",
        "  actual=df[\"Ship_Qty\"]\n",
        "  predicted=df[\"Item_Forecast_Prophet\"]\n",
        "  mape_prophet= calculate_mape(actual,predicted)\n",
        "  rmse_prophet=calculate_rmse(actual,predicted)\n",
        "  prophet_result=pd.DataFrame({'Method':[\"Prophet\"],\"Item_ID\":[item],'RMSE':[rmse_prophet],'MAPE':[mape_prophet]})\n",
        "  result_cluster=pd.concat([result_cluster,prophet_result],axis=0)\n",
        "  prophet_result2= pd.concat([prophet_result2,pd.DataFrame({\"Item_ID\":[item],'RMSE_Prophet':[rmse_prophet],'MAPE_Prophet':[mape_prophet]})],axis=0)\n",
        "result_cluster2=pd.merge(result_cluster2,prophet_result2,on=[\"Item_ID\"],how=\"left\")"
      ],
      "metadata": {
        "colab": {
          "base_uri": "https://localhost:8080/"
        },
        "id": "rpO2nVr5UxfC",
        "outputId": "5b99472c-b1cb-481b-f56d-0c4487f67651"
      },
      "execution_count": null,
      "outputs": [
        {
          "output_type": "stream",
          "name": "stderr",
          "text": [
            "/usr/local/lib/python3.7/dist-packages/ipykernel_launcher.py:3: FutureWarning: In a future version of pandas all arguments of DataFrame.drop except for the argument 'labels' will be keyword-only\n",
            "  This is separate from the ipykernel package so we can avoid doing imports until\n",
            "INFO:fbprophet:Disabling yearly seasonality. Run prophet with yearly_seasonality=True to override this.\n",
            "INFO:fbprophet:Disabling daily seasonality. Run prophet with daily_seasonality=True to override this.\n",
            "INFO:fbprophet:Disabling yearly seasonality. Run prophet with yearly_seasonality=True to override this.\n",
            "INFO:fbprophet:Disabling daily seasonality. Run prophet with daily_seasonality=True to override this.\n",
            "INFO:fbprophet:Disabling yearly seasonality. Run prophet with yearly_seasonality=True to override this.\n",
            "INFO:fbprophet:Disabling daily seasonality. Run prophet with daily_seasonality=True to override this.\n",
            "INFO:fbprophet:Disabling yearly seasonality. Run prophet with yearly_seasonality=True to override this.\n",
            "INFO:fbprophet:Disabling daily seasonality. Run prophet with daily_seasonality=True to override this.\n"
          ]
        }
      ]
    },
    {
      "cell_type": "code",
      "source": [
        "result_cluster2"
      ],
      "metadata": {
        "colab": {
          "base_uri": "https://localhost:8080/",
          "height": 677
        },
        "id": "OEnZ8b0dWDia",
        "outputId": "095753bc-bfa3-4980-e168-546c0f94d79e"
      },
      "execution_count": null,
      "outputs": [
        {
          "output_type": "execute_result",
          "data": {
            "text/plain": [
              "    Item_ID  RMSE_Holt  MAPE_Holt  RMSE_SARIMA  MAPE_SARIMA  RMSE_Prophet  \\\n",
              "0   1267128    2498.71      17.17      2585.34        18.78       2480.09   \n",
              "1   1267133    1648.22      17.81      1542.89        14.23       1520.30   \n",
              "2   1267261   10788.07      17.53     16809.69        28.45       8668.77   \n",
              "3   1267319    5619.07      11.84     10508.13        23.35       5660.06   \n",
              "4   1267375    3533.05      39.31      3807.96        40.09       2847.03   \n",
              "5   1267504    9086.17      20.36      8608.73        17.12       7587.76   \n",
              "6   1267746   22937.92      23.40     22925.48        20.38      19800.70   \n",
              "7   1267908    1887.39      14.82      2627.19        21.58       1975.79   \n",
              "8   1268762    7510.93     175.78      7517.91       171.97       6413.19   \n",
              "9   1269237     293.20      18.86       379.13        19.92        341.73   \n",
              "10  1269265     205.70      14.41       246.60        14.51        212.04   \n",
              "11  1269461    3872.55      40.76      4671.64        36.40       4263.04   \n",
              "12  1269603    4914.77      11.61      7286.25        16.64       3842.49   \n",
              "13  1269685    4492.21      41.37      4578.68        38.47       4400.54   \n",
              "14  1269810    9041.67     105.00      9019.58       102.93       7892.03   \n",
              "15  1269903     985.38      61.23      1092.07        61.43       1004.61   \n",
              "16  1269987     430.65      22.00       358.15        24.64        448.92   \n",
              "17  1270349     777.12       9.45      3183.18        45.36       1224.46   \n",
              "18  1270707    5588.59      40.13      5904.11        64.88       5888.27   \n",
              "19  1270709     456.47      25.93       591.87        30.79        462.64   \n",
              "\n",
              "    MAPE_Prophet  \n",
              "0          18.14  \n",
              "1          14.50  \n",
              "2          11.18  \n",
              "3          11.49  \n",
              "4          30.74  \n",
              "5          16.72  \n",
              "6          19.65  \n",
              "7          15.53  \n",
              "8         150.54  \n",
              "9          21.12  \n",
              "10         12.49  \n",
              "11         41.17  \n",
              "12          8.63  \n",
              "13         39.29  \n",
              "14         90.25  \n",
              "15         60.09  \n",
              "16         24.92  \n",
              "17         15.39  \n",
              "18         38.63  \n",
              "19         26.54  "
            ],
            "text/html": [
              "\n",
              "  <div id=\"df-d7db6fff-3ba9-4f3c-9aff-4bdccac89054\">\n",
              "    <div class=\"colab-df-container\">\n",
              "      <div>\n",
              "<style scoped>\n",
              "    .dataframe tbody tr th:only-of-type {\n",
              "        vertical-align: middle;\n",
              "    }\n",
              "\n",
              "    .dataframe tbody tr th {\n",
              "        vertical-align: top;\n",
              "    }\n",
              "\n",
              "    .dataframe thead th {\n",
              "        text-align: right;\n",
              "    }\n",
              "</style>\n",
              "<table border=\"1\" class=\"dataframe\">\n",
              "  <thead>\n",
              "    <tr style=\"text-align: right;\">\n",
              "      <th></th>\n",
              "      <th>Item_ID</th>\n",
              "      <th>RMSE_Holt</th>\n",
              "      <th>MAPE_Holt</th>\n",
              "      <th>RMSE_SARIMA</th>\n",
              "      <th>MAPE_SARIMA</th>\n",
              "      <th>RMSE_Prophet</th>\n",
              "      <th>MAPE_Prophet</th>\n",
              "    </tr>\n",
              "  </thead>\n",
              "  <tbody>\n",
              "    <tr>\n",
              "      <th>0</th>\n",
              "      <td>1267128</td>\n",
              "      <td>2498.71</td>\n",
              "      <td>17.17</td>\n",
              "      <td>2585.34</td>\n",
              "      <td>18.78</td>\n",
              "      <td>2480.09</td>\n",
              "      <td>18.14</td>\n",
              "    </tr>\n",
              "    <tr>\n",
              "      <th>1</th>\n",
              "      <td>1267133</td>\n",
              "      <td>1648.22</td>\n",
              "      <td>17.81</td>\n",
              "      <td>1542.89</td>\n",
              "      <td>14.23</td>\n",
              "      <td>1520.30</td>\n",
              "      <td>14.50</td>\n",
              "    </tr>\n",
              "    <tr>\n",
              "      <th>2</th>\n",
              "      <td>1267261</td>\n",
              "      <td>10788.07</td>\n",
              "      <td>17.53</td>\n",
              "      <td>16809.69</td>\n",
              "      <td>28.45</td>\n",
              "      <td>8668.77</td>\n",
              "      <td>11.18</td>\n",
              "    </tr>\n",
              "    <tr>\n",
              "      <th>3</th>\n",
              "      <td>1267319</td>\n",
              "      <td>5619.07</td>\n",
              "      <td>11.84</td>\n",
              "      <td>10508.13</td>\n",
              "      <td>23.35</td>\n",
              "      <td>5660.06</td>\n",
              "      <td>11.49</td>\n",
              "    </tr>\n",
              "    <tr>\n",
              "      <th>4</th>\n",
              "      <td>1267375</td>\n",
              "      <td>3533.05</td>\n",
              "      <td>39.31</td>\n",
              "      <td>3807.96</td>\n",
              "      <td>40.09</td>\n",
              "      <td>2847.03</td>\n",
              "      <td>30.74</td>\n",
              "    </tr>\n",
              "    <tr>\n",
              "      <th>5</th>\n",
              "      <td>1267504</td>\n",
              "      <td>9086.17</td>\n",
              "      <td>20.36</td>\n",
              "      <td>8608.73</td>\n",
              "      <td>17.12</td>\n",
              "      <td>7587.76</td>\n",
              "      <td>16.72</td>\n",
              "    </tr>\n",
              "    <tr>\n",
              "      <th>6</th>\n",
              "      <td>1267746</td>\n",
              "      <td>22937.92</td>\n",
              "      <td>23.40</td>\n",
              "      <td>22925.48</td>\n",
              "      <td>20.38</td>\n",
              "      <td>19800.70</td>\n",
              "      <td>19.65</td>\n",
              "    </tr>\n",
              "    <tr>\n",
              "      <th>7</th>\n",
              "      <td>1267908</td>\n",
              "      <td>1887.39</td>\n",
              "      <td>14.82</td>\n",
              "      <td>2627.19</td>\n",
              "      <td>21.58</td>\n",
              "      <td>1975.79</td>\n",
              "      <td>15.53</td>\n",
              "    </tr>\n",
              "    <tr>\n",
              "      <th>8</th>\n",
              "      <td>1268762</td>\n",
              "      <td>7510.93</td>\n",
              "      <td>175.78</td>\n",
              "      <td>7517.91</td>\n",
              "      <td>171.97</td>\n",
              "      <td>6413.19</td>\n",
              "      <td>150.54</td>\n",
              "    </tr>\n",
              "    <tr>\n",
              "      <th>9</th>\n",
              "      <td>1269237</td>\n",
              "      <td>293.20</td>\n",
              "      <td>18.86</td>\n",
              "      <td>379.13</td>\n",
              "      <td>19.92</td>\n",
              "      <td>341.73</td>\n",
              "      <td>21.12</td>\n",
              "    </tr>\n",
              "    <tr>\n",
              "      <th>10</th>\n",
              "      <td>1269265</td>\n",
              "      <td>205.70</td>\n",
              "      <td>14.41</td>\n",
              "      <td>246.60</td>\n",
              "      <td>14.51</td>\n",
              "      <td>212.04</td>\n",
              "      <td>12.49</td>\n",
              "    </tr>\n",
              "    <tr>\n",
              "      <th>11</th>\n",
              "      <td>1269461</td>\n",
              "      <td>3872.55</td>\n",
              "      <td>40.76</td>\n",
              "      <td>4671.64</td>\n",
              "      <td>36.40</td>\n",
              "      <td>4263.04</td>\n",
              "      <td>41.17</td>\n",
              "    </tr>\n",
              "    <tr>\n",
              "      <th>12</th>\n",
              "      <td>1269603</td>\n",
              "      <td>4914.77</td>\n",
              "      <td>11.61</td>\n",
              "      <td>7286.25</td>\n",
              "      <td>16.64</td>\n",
              "      <td>3842.49</td>\n",
              "      <td>8.63</td>\n",
              "    </tr>\n",
              "    <tr>\n",
              "      <th>13</th>\n",
              "      <td>1269685</td>\n",
              "      <td>4492.21</td>\n",
              "      <td>41.37</td>\n",
              "      <td>4578.68</td>\n",
              "      <td>38.47</td>\n",
              "      <td>4400.54</td>\n",
              "      <td>39.29</td>\n",
              "    </tr>\n",
              "    <tr>\n",
              "      <th>14</th>\n",
              "      <td>1269810</td>\n",
              "      <td>9041.67</td>\n",
              "      <td>105.00</td>\n",
              "      <td>9019.58</td>\n",
              "      <td>102.93</td>\n",
              "      <td>7892.03</td>\n",
              "      <td>90.25</td>\n",
              "    </tr>\n",
              "    <tr>\n",
              "      <th>15</th>\n",
              "      <td>1269903</td>\n",
              "      <td>985.38</td>\n",
              "      <td>61.23</td>\n",
              "      <td>1092.07</td>\n",
              "      <td>61.43</td>\n",
              "      <td>1004.61</td>\n",
              "      <td>60.09</td>\n",
              "    </tr>\n",
              "    <tr>\n",
              "      <th>16</th>\n",
              "      <td>1269987</td>\n",
              "      <td>430.65</td>\n",
              "      <td>22.00</td>\n",
              "      <td>358.15</td>\n",
              "      <td>24.64</td>\n",
              "      <td>448.92</td>\n",
              "      <td>24.92</td>\n",
              "    </tr>\n",
              "    <tr>\n",
              "      <th>17</th>\n",
              "      <td>1270349</td>\n",
              "      <td>777.12</td>\n",
              "      <td>9.45</td>\n",
              "      <td>3183.18</td>\n",
              "      <td>45.36</td>\n",
              "      <td>1224.46</td>\n",
              "      <td>15.39</td>\n",
              "    </tr>\n",
              "    <tr>\n",
              "      <th>18</th>\n",
              "      <td>1270707</td>\n",
              "      <td>5588.59</td>\n",
              "      <td>40.13</td>\n",
              "      <td>5904.11</td>\n",
              "      <td>64.88</td>\n",
              "      <td>5888.27</td>\n",
              "      <td>38.63</td>\n",
              "    </tr>\n",
              "    <tr>\n",
              "      <th>19</th>\n",
              "      <td>1270709</td>\n",
              "      <td>456.47</td>\n",
              "      <td>25.93</td>\n",
              "      <td>591.87</td>\n",
              "      <td>30.79</td>\n",
              "      <td>462.64</td>\n",
              "      <td>26.54</td>\n",
              "    </tr>\n",
              "  </tbody>\n",
              "</table>\n",
              "</div>\n",
              "      <button class=\"colab-df-convert\" onclick=\"convertToInteractive('df-d7db6fff-3ba9-4f3c-9aff-4bdccac89054')\"\n",
              "              title=\"Convert this dataframe to an interactive table.\"\n",
              "              style=\"display:none;\">\n",
              "        \n",
              "  <svg xmlns=\"http://www.w3.org/2000/svg\" height=\"24px\"viewBox=\"0 0 24 24\"\n",
              "       width=\"24px\">\n",
              "    <path d=\"M0 0h24v24H0V0z\" fill=\"none\"/>\n",
              "    <path d=\"M18.56 5.44l.94 2.06.94-2.06 2.06-.94-2.06-.94-.94-2.06-.94 2.06-2.06.94zm-11 1L8.5 8.5l.94-2.06 2.06-.94-2.06-.94L8.5 2.5l-.94 2.06-2.06.94zm10 10l.94 2.06.94-2.06 2.06-.94-2.06-.94-.94-2.06-.94 2.06-2.06.94z\"/><path d=\"M17.41 7.96l-1.37-1.37c-.4-.4-.92-.59-1.43-.59-.52 0-1.04.2-1.43.59L10.3 9.45l-7.72 7.72c-.78.78-.78 2.05 0 2.83L4 21.41c.39.39.9.59 1.41.59.51 0 1.02-.2 1.41-.59l7.78-7.78 2.81-2.81c.8-.78.8-2.07 0-2.86zM5.41 20L4 18.59l7.72-7.72 1.47 1.35L5.41 20z\"/>\n",
              "  </svg>\n",
              "      </button>\n",
              "      \n",
              "  <style>\n",
              "    .colab-df-container {\n",
              "      display:flex;\n",
              "      flex-wrap:wrap;\n",
              "      gap: 12px;\n",
              "    }\n",
              "\n",
              "    .colab-df-convert {\n",
              "      background-color: #E8F0FE;\n",
              "      border: none;\n",
              "      border-radius: 50%;\n",
              "      cursor: pointer;\n",
              "      display: none;\n",
              "      fill: #1967D2;\n",
              "      height: 32px;\n",
              "      padding: 0 0 0 0;\n",
              "      width: 32px;\n",
              "    }\n",
              "\n",
              "    .colab-df-convert:hover {\n",
              "      background-color: #E2EBFA;\n",
              "      box-shadow: 0px 1px 2px rgba(60, 64, 67, 0.3), 0px 1px 3px 1px rgba(60, 64, 67, 0.15);\n",
              "      fill: #174EA6;\n",
              "    }\n",
              "\n",
              "    [theme=dark] .colab-df-convert {\n",
              "      background-color: #3B4455;\n",
              "      fill: #D2E3FC;\n",
              "    }\n",
              "\n",
              "    [theme=dark] .colab-df-convert:hover {\n",
              "      background-color: #434B5C;\n",
              "      box-shadow: 0px 1px 3px 1px rgba(0, 0, 0, 0.15);\n",
              "      filter: drop-shadow(0px 1px 2px rgba(0, 0, 0, 0.3));\n",
              "      fill: #FFFFFF;\n",
              "    }\n",
              "  </style>\n",
              "\n",
              "      <script>\n",
              "        const buttonEl =\n",
              "          document.querySelector('#df-d7db6fff-3ba9-4f3c-9aff-4bdccac89054 button.colab-df-convert');\n",
              "        buttonEl.style.display =\n",
              "          google.colab.kernel.accessAllowed ? 'block' : 'none';\n",
              "\n",
              "        async function convertToInteractive(key) {\n",
              "          const element = document.querySelector('#df-d7db6fff-3ba9-4f3c-9aff-4bdccac89054');\n",
              "          const dataTable =\n",
              "            await google.colab.kernel.invokeFunction('convertToInteractive',\n",
              "                                                     [key], {});\n",
              "          if (!dataTable) return;\n",
              "\n",
              "          const docLinkHtml = 'Like what you see? Visit the ' +\n",
              "            '<a target=\"_blank\" href=https://colab.research.google.com/notebooks/data_table.ipynb>data table notebook</a>'\n",
              "            + ' to learn more about interactive tables.';\n",
              "          element.innerHTML = '';\n",
              "          dataTable['output_type'] = 'display_data';\n",
              "          await google.colab.output.renderOutput(dataTable, element);\n",
              "          const docLink = document.createElement('div');\n",
              "          docLink.innerHTML = docLinkHtml;\n",
              "          element.appendChild(docLink);\n",
              "        }\n",
              "      </script>\n",
              "    </div>\n",
              "  </div>\n",
              "  "
            ]
          },
          "metadata": {},
          "execution_count": 33
        }
      ]
    },
    {
      "cell_type": "code",
      "source": [
        "from google.colab import files\n",
        "\n",
        "result_cluster2.to_csv('result_cluster2.csv', encoding = 'utf-8-sig') \n",
        "files.download('result_cluster2.csv')"
      ],
      "metadata": {
        "colab": {
          "base_uri": "https://localhost:8080/",
          "height": 17
        },
        "id": "ZXw7D49iWJGJ",
        "outputId": "13a38ac7-d83f-411d-93db-88816fe12a17"
      },
      "execution_count": null,
      "outputs": [
        {
          "output_type": "display_data",
          "data": {
            "text/plain": [
              "<IPython.core.display.Javascript object>"
            ],
            "application/javascript": [
              "\n",
              "    async function download(id, filename, size) {\n",
              "      if (!google.colab.kernel.accessAllowed) {\n",
              "        return;\n",
              "      }\n",
              "      const div = document.createElement('div');\n",
              "      const label = document.createElement('label');\n",
              "      label.textContent = `Downloading \"${filename}\": `;\n",
              "      div.appendChild(label);\n",
              "      const progress = document.createElement('progress');\n",
              "      progress.max = size;\n",
              "      div.appendChild(progress);\n",
              "      document.body.appendChild(div);\n",
              "\n",
              "      const buffers = [];\n",
              "      let downloaded = 0;\n",
              "\n",
              "      const channel = await google.colab.kernel.comms.open(id);\n",
              "      // Send a message to notify the kernel that we're ready.\n",
              "      channel.send({})\n",
              "\n",
              "      for await (const message of channel.messages) {\n",
              "        // Send a message to notify the kernel that we're ready.\n",
              "        channel.send({})\n",
              "        if (message.buffers) {\n",
              "          for (const buffer of message.buffers) {\n",
              "            buffers.push(buffer);\n",
              "            downloaded += buffer.byteLength;\n",
              "            progress.value = downloaded;\n",
              "          }\n",
              "        }\n",
              "      }\n",
              "      const blob = new Blob(buffers, {type: 'application/binary'});\n",
              "      const a = document.createElement('a');\n",
              "      a.href = window.URL.createObjectURL(blob);\n",
              "      a.download = filename;\n",
              "      div.appendChild(a);\n",
              "      a.click();\n",
              "      div.remove();\n",
              "    }\n",
              "  "
            ]
          },
          "metadata": {}
        },
        {
          "output_type": "display_data",
          "data": {
            "text/plain": [
              "<IPython.core.display.Javascript object>"
            ],
            "application/javascript": [
              "download(\"download_b549f849-7197-4cce-9c18-b51bb8acbb5c\", \"result_cluster2.csv\", 1117)"
            ]
          },
          "metadata": {}
        }
      ]
    },
    {
      "cell_type": "code",
      "source": [
        "df_result_cluster=pd.DataFrame()\n",
        "for i in range(len(result_cluster2)):\n",
        "  df_result_cluster.loc[i,\"Item_ID\"]=result_cluster2.loc[i,\"Item_ID\"]\n",
        "  df_result_cluster.loc[i,\"MAPE_Cluster\"]= min(result_cluster2.loc[i,\"MAPE_Holt\"],result2.loc[i,\"MAPE_SARIMA\"],result2.loc[i,\"MAPE_Prophet\"])"
      ],
      "metadata": {
        "id": "iQVSFroda-J_"
      },
      "execution_count": null,
      "outputs": []
    },
    {
      "cell_type": "code",
      "source": [
        "df_result_cluster"
      ],
      "metadata": {
        "colab": {
          "base_uri": "https://localhost:8080/",
          "height": 677
        },
        "id": "LLKhQtQ8hIzv",
        "outputId": "b03d3d56-7f5d-4c4a-e9e5-63ed1c99d417"
      },
      "execution_count": null,
      "outputs": [
        {
          "output_type": "execute_result",
          "data": {
            "text/plain": [
              "      Item_ID  MAPE_Cluster\n",
              "0   1267128.0         11.88\n",
              "1   1267133.0         17.81\n",
              "2   1267261.0         10.99\n",
              "3   1267319.0          7.65\n",
              "4   1267375.0         21.16\n",
              "5   1267504.0         18.36\n",
              "6   1267746.0         17.84\n",
              "7   1267908.0         14.04\n",
              "8   1268762.0         60.03\n",
              "9   1269237.0         18.86\n",
              "10  1269265.0         13.14\n",
              "11  1269461.0         40.44\n",
              "12  1269603.0         10.30\n",
              "13  1269685.0         41.37\n",
              "14  1269810.0         26.04\n",
              "15  1269903.0         61.23\n",
              "16  1269987.0         21.78\n",
              "17  1270349.0          9.45\n",
              "18  1270707.0         40.13\n",
              "19  1270709.0         24.05"
            ],
            "text/html": [
              "\n",
              "  <div id=\"df-c36e61fd-f1e1-4b14-9e30-a1167ae3b311\">\n",
              "    <div class=\"colab-df-container\">\n",
              "      <div>\n",
              "<style scoped>\n",
              "    .dataframe tbody tr th:only-of-type {\n",
              "        vertical-align: middle;\n",
              "    }\n",
              "\n",
              "    .dataframe tbody tr th {\n",
              "        vertical-align: top;\n",
              "    }\n",
              "\n",
              "    .dataframe thead th {\n",
              "        text-align: right;\n",
              "    }\n",
              "</style>\n",
              "<table border=\"1\" class=\"dataframe\">\n",
              "  <thead>\n",
              "    <tr style=\"text-align: right;\">\n",
              "      <th></th>\n",
              "      <th>Item_ID</th>\n",
              "      <th>MAPE_Cluster</th>\n",
              "    </tr>\n",
              "  </thead>\n",
              "  <tbody>\n",
              "    <tr>\n",
              "      <th>0</th>\n",
              "      <td>1267128.0</td>\n",
              "      <td>11.88</td>\n",
              "    </tr>\n",
              "    <tr>\n",
              "      <th>1</th>\n",
              "      <td>1267133.0</td>\n",
              "      <td>17.81</td>\n",
              "    </tr>\n",
              "    <tr>\n",
              "      <th>2</th>\n",
              "      <td>1267261.0</td>\n",
              "      <td>10.99</td>\n",
              "    </tr>\n",
              "    <tr>\n",
              "      <th>3</th>\n",
              "      <td>1267319.0</td>\n",
              "      <td>7.65</td>\n",
              "    </tr>\n",
              "    <tr>\n",
              "      <th>4</th>\n",
              "      <td>1267375.0</td>\n",
              "      <td>21.16</td>\n",
              "    </tr>\n",
              "    <tr>\n",
              "      <th>5</th>\n",
              "      <td>1267504.0</td>\n",
              "      <td>18.36</td>\n",
              "    </tr>\n",
              "    <tr>\n",
              "      <th>6</th>\n",
              "      <td>1267746.0</td>\n",
              "      <td>17.84</td>\n",
              "    </tr>\n",
              "    <tr>\n",
              "      <th>7</th>\n",
              "      <td>1267908.0</td>\n",
              "      <td>14.04</td>\n",
              "    </tr>\n",
              "    <tr>\n",
              "      <th>8</th>\n",
              "      <td>1268762.0</td>\n",
              "      <td>60.03</td>\n",
              "    </tr>\n",
              "    <tr>\n",
              "      <th>9</th>\n",
              "      <td>1269237.0</td>\n",
              "      <td>18.86</td>\n",
              "    </tr>\n",
              "    <tr>\n",
              "      <th>10</th>\n",
              "      <td>1269265.0</td>\n",
              "      <td>13.14</td>\n",
              "    </tr>\n",
              "    <tr>\n",
              "      <th>11</th>\n",
              "      <td>1269461.0</td>\n",
              "      <td>40.44</td>\n",
              "    </tr>\n",
              "    <tr>\n",
              "      <th>12</th>\n",
              "      <td>1269603.0</td>\n",
              "      <td>10.30</td>\n",
              "    </tr>\n",
              "    <tr>\n",
              "      <th>13</th>\n",
              "      <td>1269685.0</td>\n",
              "      <td>41.37</td>\n",
              "    </tr>\n",
              "    <tr>\n",
              "      <th>14</th>\n",
              "      <td>1269810.0</td>\n",
              "      <td>26.04</td>\n",
              "    </tr>\n",
              "    <tr>\n",
              "      <th>15</th>\n",
              "      <td>1269903.0</td>\n",
              "      <td>61.23</td>\n",
              "    </tr>\n",
              "    <tr>\n",
              "      <th>16</th>\n",
              "      <td>1269987.0</td>\n",
              "      <td>21.78</td>\n",
              "    </tr>\n",
              "    <tr>\n",
              "      <th>17</th>\n",
              "      <td>1270349.0</td>\n",
              "      <td>9.45</td>\n",
              "    </tr>\n",
              "    <tr>\n",
              "      <th>18</th>\n",
              "      <td>1270707.0</td>\n",
              "      <td>40.13</td>\n",
              "    </tr>\n",
              "    <tr>\n",
              "      <th>19</th>\n",
              "      <td>1270709.0</td>\n",
              "      <td>24.05</td>\n",
              "    </tr>\n",
              "  </tbody>\n",
              "</table>\n",
              "</div>\n",
              "      <button class=\"colab-df-convert\" onclick=\"convertToInteractive('df-c36e61fd-f1e1-4b14-9e30-a1167ae3b311')\"\n",
              "              title=\"Convert this dataframe to an interactive table.\"\n",
              "              style=\"display:none;\">\n",
              "        \n",
              "  <svg xmlns=\"http://www.w3.org/2000/svg\" height=\"24px\"viewBox=\"0 0 24 24\"\n",
              "       width=\"24px\">\n",
              "    <path d=\"M0 0h24v24H0V0z\" fill=\"none\"/>\n",
              "    <path d=\"M18.56 5.44l.94 2.06.94-2.06 2.06-.94-2.06-.94-.94-2.06-.94 2.06-2.06.94zm-11 1L8.5 8.5l.94-2.06 2.06-.94-2.06-.94L8.5 2.5l-.94 2.06-2.06.94zm10 10l.94 2.06.94-2.06 2.06-.94-2.06-.94-.94-2.06-.94 2.06-2.06.94z\"/><path d=\"M17.41 7.96l-1.37-1.37c-.4-.4-.92-.59-1.43-.59-.52 0-1.04.2-1.43.59L10.3 9.45l-7.72 7.72c-.78.78-.78 2.05 0 2.83L4 21.41c.39.39.9.59 1.41.59.51 0 1.02-.2 1.41-.59l7.78-7.78 2.81-2.81c.8-.78.8-2.07 0-2.86zM5.41 20L4 18.59l7.72-7.72 1.47 1.35L5.41 20z\"/>\n",
              "  </svg>\n",
              "      </button>\n",
              "      \n",
              "  <style>\n",
              "    .colab-df-container {\n",
              "      display:flex;\n",
              "      flex-wrap:wrap;\n",
              "      gap: 12px;\n",
              "    }\n",
              "\n",
              "    .colab-df-convert {\n",
              "      background-color: #E8F0FE;\n",
              "      border: none;\n",
              "      border-radius: 50%;\n",
              "      cursor: pointer;\n",
              "      display: none;\n",
              "      fill: #1967D2;\n",
              "      height: 32px;\n",
              "      padding: 0 0 0 0;\n",
              "      width: 32px;\n",
              "    }\n",
              "\n",
              "    .colab-df-convert:hover {\n",
              "      background-color: #E2EBFA;\n",
              "      box-shadow: 0px 1px 2px rgba(60, 64, 67, 0.3), 0px 1px 3px 1px rgba(60, 64, 67, 0.15);\n",
              "      fill: #174EA6;\n",
              "    }\n",
              "\n",
              "    [theme=dark] .colab-df-convert {\n",
              "      background-color: #3B4455;\n",
              "      fill: #D2E3FC;\n",
              "    }\n",
              "\n",
              "    [theme=dark] .colab-df-convert:hover {\n",
              "      background-color: #434B5C;\n",
              "      box-shadow: 0px 1px 3px 1px rgba(0, 0, 0, 0.15);\n",
              "      filter: drop-shadow(0px 1px 2px rgba(0, 0, 0, 0.3));\n",
              "      fill: #FFFFFF;\n",
              "    }\n",
              "  </style>\n",
              "\n",
              "      <script>\n",
              "        const buttonEl =\n",
              "          document.querySelector('#df-c36e61fd-f1e1-4b14-9e30-a1167ae3b311 button.colab-df-convert');\n",
              "        buttonEl.style.display =\n",
              "          google.colab.kernel.accessAllowed ? 'block' : 'none';\n",
              "\n",
              "        async function convertToInteractive(key) {\n",
              "          const element = document.querySelector('#df-c36e61fd-f1e1-4b14-9e30-a1167ae3b311');\n",
              "          const dataTable =\n",
              "            await google.colab.kernel.invokeFunction('convertToInteractive',\n",
              "                                                     [key], {});\n",
              "          if (!dataTable) return;\n",
              "\n",
              "          const docLinkHtml = 'Like what you see? Visit the ' +\n",
              "            '<a target=\"_blank\" href=https://colab.research.google.com/notebooks/data_table.ipynb>data table notebook</a>'\n",
              "            + ' to learn more about interactive tables.';\n",
              "          element.innerHTML = '';\n",
              "          dataTable['output_type'] = 'display_data';\n",
              "          await google.colab.output.renderOutput(dataTable, element);\n",
              "          const docLink = document.createElement('div');\n",
              "          docLink.innerHTML = docLinkHtml;\n",
              "          element.appendChild(docLink);\n",
              "        }\n",
              "      </script>\n",
              "    </div>\n",
              "  </div>\n",
              "  "
            ]
          },
          "metadata": {},
          "execution_count": 47
        }
      ]
    },
    {
      "cell_type": "markdown",
      "source": [
        "#Pyomo Optimization"
      ],
      "metadata": {
        "id": "9sqvuSyexwpX"
      }
    },
    {
      "cell_type": "code",
      "source": [
        ""
      ],
      "metadata": {
        "id": "ptEy8_jsWeL7"
      },
      "execution_count": null,
      "outputs": []
    },
    {
      "cell_type": "markdown",
      "source": [
        "###Variables"
      ],
      "metadata": {
        "id": "l-O9qBnzyVhE"
      }
    }
  ],
  "metadata": {
    "colab": {
      "collapsed_sections": [],
      "name": "Main Forecasting.ipynb",
      "provenance": []
    },
    "kernelspec": {
      "display_name": "Python 3",
      "name": "python3"
    },
    "language_info": {
      "name": "python"
    }
  },
  "nbformat": 4,
  "nbformat_minor": 0
}